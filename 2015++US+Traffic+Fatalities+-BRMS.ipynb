{
 "cells": [
  {
   "cell_type": "markdown",
   "metadata": {},
   "source": [
    "# Bayesian Approach\n",
    "\n",
    "Introduction: \n",
    "\n",
    " After examining the result of GLM model, we found season, time period (peak hours),weather and traffic day have some influence on the number of deaths. Plus, those variables also have interaction with other variables, such as speed, obstruction etc.\n",
    "\n",
    "As such, we decided to use hierarchical model to select weather, season, etc as main effect, and make speed, sequence as subject level effect. Because we might see our data in this way, speed of a vehicle is an individual variable, but it has some dependence on the weather, season.\n",
    "\n",
    "This assumption is qualified for the application of hierarchical model. The units of analysis are usually individuals (at a lower level) who are nested within contextual/aggregate units (at a higher level)."
   ]
  },
  {
   "cell_type": "markdown",
   "metadata": {},
   "source": [
    "## 1.1 Load several relevant libraries "
   ]
  },
  {
   "cell_type": "code",
   "execution_count": 1,
   "metadata": {},
   "outputs": [
    {
     "name": "stderr",
     "output_type": "stream",
     "text": [
      "\n",
      "Attaching package: 'dplyr'\n",
      "\n",
      "The following objects are masked from 'package:stats':\n",
      "\n",
      "    filter, lag\n",
      "\n",
      "The following objects are masked from 'package:base':\n",
      "\n",
      "    intersect, setdiff, setequal, union\n",
      "\n",
      "Loading required package: Rcpp\n",
      "Loading 'brms' package (version 1.9.0). Useful instructions\n",
      "can be found by typing help('brms'). A more detailed introduction\n",
      "to the package is available through vignette('brms_overview').\n",
      "Plotting theme set to bayesplot::theme_default().\n"
     ]
    }
   ],
   "source": [
    "library(dplyr)\n",
    "library(readr)\n",
    "library(magrittr)\n",
    "library(ggplot2)\n",
    "library(brms)   # loading various libraries"
   ]
  },
  {
   "cell_type": "markdown",
   "metadata": {},
   "source": [
    "## 1.2 Load data and drop irrelevant columns"
   ]
  },
  {
   "cell_type": "code",
   "execution_count": 2,
   "metadata": {
    "collapsed": true
   },
   "outputs": [],
   "source": [
    "brms_data <- read.csv(\"2015 US TRAFFIC FATALS BRMS APR24.csv\")"
   ]
  },
  {
   "cell_type": "code",
   "execution_count": 3,
   "metadata": {},
   "outputs": [
    {
     "data": {
      "text/html": [
       "<table>\n",
       "<thead><tr><th scope=col>FATALS</th><th scope=col>STATE</th><th scope=col>ST_CASE</th><th scope=col>Sequence</th><th scope=col>ROLLOVER</th><th scope=col>SPEED</th><th scope=col>Obstruction</th><th scope=col>DRUNK_DR</th><th scope=col>VE_TOTAL</th><th scope=col>VE_FORMS</th><th scope=col>...</th><th scope=col>noon</th><th scope=col>afternoon</th><th scope=col>LATITUDE</th><th scope=col>LONGITUD</th><th scope=col>Clear</th><th scope=col>Rain</th><th scope=col>Hail</th><th scope=col>Snow</th><th scope=col>Fog</th><th scope=col>Blowing_sand</th></tr></thead>\n",
       "<tbody>\n",
       "\t<tr><td>2        </td><td>1        </td><td>10025    </td><td>4        </td><td>0        </td><td>95       </td><td>0        </td><td>1        </td><td>1        </td><td>1        </td><td>...      </td><td>0        </td><td>0        </td><td>33.08891 </td><td>-87.67460</td><td>1        </td><td>0        </td><td>0        </td><td>0        </td><td>0        </td><td>0        </td></tr>\n",
       "\t<tr><td>1        </td><td>1        </td><td>10029    </td><td>3        </td><td>0        </td><td>65       </td><td>0        </td><td>0        </td><td>1        </td><td>1        </td><td>...      </td><td>0        </td><td>0        </td><td>31.16131 </td><td>-85.19056</td><td>0        </td><td>1        </td><td>0        </td><td>0        </td><td>0        </td><td>0        </td></tr>\n",
       "\t<tr><td>5        </td><td>1        </td><td>10030    </td><td>5        </td><td>1        </td><td>96       </td><td>0        </td><td>0        </td><td>2        </td><td>2        </td><td>...      </td><td>1        </td><td>0        </td><td>32.78083 </td><td>-86.47020</td><td>1        </td><td>0        </td><td>0        </td><td>0        </td><td>0        </td><td>0        </td></tr>\n",
       "</tbody>\n",
       "</table>\n"
      ],
      "text/latex": [
       "\\begin{tabular}{r|lllllllllllllllllllllllllllllllllllllll}\n",
       " FATALS & STATE & ST\\_CASE & Sequence & ROLLOVER & SPEED & Obstruction & DRUNK\\_DR & VE\\_TOTAL & VE\\_FORMS & ... & noon & afternoon & LATITUDE & LONGITUD & Clear & Rain & Hail & Snow & Fog & Blowing\\_sand\\\\\n",
       "\\hline\n",
       "\t 2         & 1         & 10025     & 4         & 0         & 95        & 0         & 1         & 1         & 1         & ...       & 0         & 0         & 33.08891  & -87.67460 & 1         & 0         & 0         & 0         & 0         & 0        \\\\\n",
       "\t 1         & 1         & 10029     & 3         & 0         & 65        & 0         & 0         & 1         & 1         & ...       & 0         & 0         & 31.16131  & -85.19056 & 0         & 1         & 0         & 0         & 0         & 0        \\\\\n",
       "\t 5         & 1         & 10030     & 5         & 1         & 96        & 0         & 0         & 2         & 2         & ...       & 1         & 0         & 32.78083  & -86.47020 & 1         & 0         & 0         & 0         & 0         & 0        \\\\\n",
       "\\end{tabular}\n"
      ],
      "text/markdown": [
       "\n",
       "FATALS | STATE | ST_CASE | Sequence | ROLLOVER | SPEED | Obstruction | DRUNK_DR | VE_TOTAL | VE_FORMS | ... | noon | afternoon | LATITUDE | LONGITUD | Clear | Rain | Hail | Snow | Fog | Blowing_sand | \n",
       "|---|---|---|\n",
       "| 2         | 1         | 10025     | 4         | 0         | 95        | 0         | 1         | 1         | 1         | ...       | 0         | 0         | 33.08891  | -87.67460 | 1         | 0         | 0         | 0         | 0         | 0         | \n",
       "| 1         | 1         | 10029     | 3         | 0         | 65        | 0         | 0         | 1         | 1         | ...       | 0         | 0         | 31.16131  | -85.19056 | 0         | 1         | 0         | 0         | 0         | 0         | \n",
       "| 5         | 1         | 10030     | 5         | 1         | 96        | 0         | 0         | 2         | 2         | ...       | 1         | 0         | 32.78083  | -86.47020 | 1         | 0         | 0         | 0         | 0         | 0         | \n",
       "\n",
       "\n"
      ],
      "text/plain": [
       "  FATALS STATE ST_CASE Sequence ROLLOVER SPEED Obstruction DRUNK_DR VE_TOTAL\n",
       "1 2      1     10025   4        0        95    0           1        1       \n",
       "2 1      1     10029   3        0        65    0           0        1       \n",
       "3 5      1     10030   5        1        96    0           0        2       \n",
       "  VE_FORMS ... noon afternoon LATITUDE LONGITUD  Clear Rain Hail Snow Fog\n",
       "1 1        ... 0    0         33.08891 -87.67460 1     0    0    0    0  \n",
       "2 1        ... 0    0         31.16131 -85.19056 0     1    0    0    0  \n",
       "3 2        ... 1    0         32.78083 -86.47020 1     0    0    0    0  \n",
       "  Blowing_sand\n",
       "1 0           \n",
       "2 0           \n",
       "3 0           "
      ]
     },
     "metadata": {},
     "output_type": "display_data"
    }
   ],
   "source": [
    "head(brms_data,3)"
   ]
  },
  {
   "cell_type": "code",
   "execution_count": 4,
   "metadata": {
    "collapsed": true
   },
   "outputs": [],
   "source": [
    "drop.cols = c(\"ST_CASE\", \"STATE\")\n",
    "brms_data <- brms_data %>% select(-one_of(drop.cols))\n",
    "# c...string %>% -?  #drop columns"
   ]
  },
  {
   "cell_type": "code",
   "execution_count": 5,
   "metadata": {},
   "outputs": [
    {
     "data": {
      "text/html": [
       "<table>\n",
       "<thead><tr><th scope=col>FATALS</th><th scope=col>Sequence</th><th scope=col>ROLLOVER</th><th scope=col>SPEED</th><th scope=col>Obstruction</th><th scope=col>DRUNK_DR</th><th scope=col>VE_TOTAL</th><th scope=col>VE_FORMS</th><th scope=col>PERMVIT</th><th scope=col>Principal.Arterial</th><th scope=col>...</th><th scope=col>noon</th><th scope=col>afternoon</th><th scope=col>LATITUDE</th><th scope=col>LONGITUD</th><th scope=col>Clear</th><th scope=col>Rain</th><th scope=col>Hail</th><th scope=col>Snow</th><th scope=col>Fog</th><th scope=col>Blowing_sand</th></tr></thead>\n",
       "<tbody>\n",
       "\t<tr><td>2        </td><td>4        </td><td>0        </td><td>95       </td><td>0        </td><td>1        </td><td>1        </td><td>1        </td><td>2        </td><td>0        </td><td>...      </td><td>0        </td><td>0        </td><td>33.08891 </td><td>-87.67460</td><td>1        </td><td>0        </td><td>0        </td><td>0        </td><td>0        </td><td>0        </td></tr>\n",
       "\t<tr><td>1        </td><td>3        </td><td>0        </td><td>65       </td><td>0        </td><td>0        </td><td>1        </td><td>1        </td><td>1        </td><td>1        </td><td>...      </td><td>0        </td><td>0        </td><td>31.16131 </td><td>-85.19056</td><td>0        </td><td>1        </td><td>0        </td><td>0        </td><td>0        </td><td>0        </td></tr>\n",
       "\t<tr><td>5        </td><td>5        </td><td>1        </td><td>96       </td><td>0        </td><td>0        </td><td>2        </td><td>2        </td><td>5        </td><td>0        </td><td>...      </td><td>1        </td><td>0        </td><td>32.78083 </td><td>-86.47020</td><td>1        </td><td>0        </td><td>0        </td><td>0        </td><td>0        </td><td>0        </td></tr>\n",
       "</tbody>\n",
       "</table>\n"
      ],
      "text/latex": [
       "\\begin{tabular}{r|lllllllllllllllllllllllllllllllllllll}\n",
       " FATALS & Sequence & ROLLOVER & SPEED & Obstruction & DRUNK\\_DR & VE\\_TOTAL & VE\\_FORMS & PERMVIT & Principal.Arterial & ... & noon & afternoon & LATITUDE & LONGITUD & Clear & Rain & Hail & Snow & Fog & Blowing\\_sand\\\\\n",
       "\\hline\n",
       "\t 2         & 4         & 0         & 95        & 0         & 1         & 1         & 1         & 2         & 0         & ...       & 0         & 0         & 33.08891  & -87.67460 & 1         & 0         & 0         & 0         & 0         & 0        \\\\\n",
       "\t 1         & 3         & 0         & 65        & 0         & 0         & 1         & 1         & 1         & 1         & ...       & 0         & 0         & 31.16131  & -85.19056 & 0         & 1         & 0         & 0         & 0         & 0        \\\\\n",
       "\t 5         & 5         & 1         & 96        & 0         & 0         & 2         & 2         & 5         & 0         & ...       & 1         & 0         & 32.78083  & -86.47020 & 1         & 0         & 0         & 0         & 0         & 0        \\\\\n",
       "\\end{tabular}\n"
      ],
      "text/markdown": [
       "\n",
       "FATALS | Sequence | ROLLOVER | SPEED | Obstruction | DRUNK_DR | VE_TOTAL | VE_FORMS | PERMVIT | Principal.Arterial | ... | noon | afternoon | LATITUDE | LONGITUD | Clear | Rain | Hail | Snow | Fog | Blowing_sand | \n",
       "|---|---|---|\n",
       "| 2         | 4         | 0         | 95        | 0         | 1         | 1         | 1         | 2         | 0         | ...       | 0         | 0         | 33.08891  | -87.67460 | 1         | 0         | 0         | 0         | 0         | 0         | \n",
       "| 1         | 3         | 0         | 65        | 0         | 0         | 1         | 1         | 1         | 1         | ...       | 0         | 0         | 31.16131  | -85.19056 | 0         | 1         | 0         | 0         | 0         | 0         | \n",
       "| 5         | 5         | 1         | 96        | 0         | 0         | 2         | 2         | 5         | 0         | ...       | 1         | 0         | 32.78083  | -86.47020 | 1         | 0         | 0         | 0         | 0         | 0         | \n",
       "\n",
       "\n"
      ],
      "text/plain": [
       "  FATALS Sequence ROLLOVER SPEED Obstruction DRUNK_DR VE_TOTAL VE_FORMS PERMVIT\n",
       "1 2      4        0        95    0           1        1        1        2      \n",
       "2 1      3        0        65    0           0        1        1        1      \n",
       "3 5      5        1        96    0           0        2        2        5      \n",
       "  Principal.Arterial ... noon afternoon LATITUDE LONGITUD  Clear Rain Hail Snow\n",
       "1 0                  ... 0    0         33.08891 -87.67460 1     0    0    0   \n",
       "2 1                  ... 0    0         31.16131 -85.19056 0     1    0    0   \n",
       "3 0                  ... 1    0         32.78083 -86.47020 1     0    0    0   \n",
       "  Fog Blowing_sand\n",
       "1 0   0           \n",
       "2 0   0           \n",
       "3 0   0           "
      ]
     },
     "metadata": {},
     "output_type": "display_data"
    }
   ],
   "source": [
    "head(brms_data,3)"
   ]
  },
  {
   "cell_type": "markdown",
   "metadata": {},
   "source": [
    "## 2.1 Summary grouping parameters- Weather"
   ]
  },
  {
   "cell_type": "code",
   "execution_count": 6,
   "metadata": {},
   "outputs": [
    {
     "data": {
      "text/html": [
       "<ol class=list-inline>\n",
       "\t<li>'Blowing_sand'</li>\n",
       "\t<li>'Clear'</li>\n",
       "\t<li>'Fog'</li>\n",
       "\t<li>'Hail'</li>\n",
       "\t<li>'Other'</li>\n",
       "\t<li>'Rain'</li>\n",
       "\t<li>'Snow'</li>\n",
       "</ol>\n"
      ],
      "text/latex": [
       "\\begin{enumerate*}\n",
       "\\item 'Blowing\\_sand'\n",
       "\\item 'Clear'\n",
       "\\item 'Fog'\n",
       "\\item 'Hail'\n",
       "\\item 'Other'\n",
       "\\item 'Rain'\n",
       "\\item 'Snow'\n",
       "\\end{enumerate*}\n"
      ],
      "text/markdown": [
       "1. 'Blowing_sand'\n",
       "2. 'Clear'\n",
       "3. 'Fog'\n",
       "4. 'Hail'\n",
       "5. 'Other'\n",
       "6. 'Rain'\n",
       "7. 'Snow'\n",
       "\n",
       "\n"
      ],
      "text/plain": [
       "[1] \"Blowing_sand\" \"Clear\"        \"Fog\"          \"Hail\"         \"Other\"       \n",
       "[6] \"Rain\"         \"Snow\"        "
      ]
     },
     "metadata": {},
     "output_type": "display_data"
    },
    {
     "data": {
      "text/html": [
       "<dl class=dl-horizontal>\n",
       "\t<dt>Blowing_sand</dt>\n",
       "\t\t<dd>11</dd>\n",
       "\t<dt>Clear</dt>\n",
       "\t\t<dd>7451</dd>\n",
       "\t<dt>Fog</dt>\n",
       "\t\t<dd>112</dd>\n",
       "\t<dt>Hail</dt>\n",
       "\t\t<dd>31</dd>\n",
       "\t<dt>Other</dt>\n",
       "\t\t<dd>1372</dd>\n",
       "\t<dt>Rain</dt>\n",
       "\t\t<dd>650</dd>\n",
       "\t<dt>Snow</dt>\n",
       "\t\t<dd>96</dd>\n",
       "</dl>\n"
      ],
      "text/latex": [
       "\\begin{description*}\n",
       "\\item[Blowing\\textbackslash{}\\_sand] 11\n",
       "\\item[Clear] 7451\n",
       "\\item[Fog] 112\n",
       "\\item[Hail] 31\n",
       "\\item[Other] 1372\n",
       "\\item[Rain] 650\n",
       "\\item[Snow] 96\n",
       "\\end{description*}\n"
      ],
      "text/markdown": [
       "Blowing_sand\n",
       ":   11Clear\n",
       ":   7451Fog\n",
       ":   112Hail\n",
       ":   31Other\n",
       ":   1372Rain\n",
       ":   650Snow\n",
       ":   96\n",
       "\n"
      ],
      "text/plain": [
       "Blowing_sand        Clear          Fog         Hail        Other         Rain \n",
       "          11         7451          112           31         1372          650 \n",
       "        Snow \n",
       "          96 "
      ]
     },
     "metadata": {},
     "output_type": "display_data"
    }
   ],
   "source": [
    "levels(brms_data$Weather)\n",
    "summary(brms_data$Weather)"
   ]
  },
  {
   "cell_type": "markdown",
   "metadata": {},
   "source": [
    "\"\"\"mydf$med <- `levels<-`(factor(mydf$med), list(\"foo\"=0, \"bar\"=c(1,2)))\n",
    "mydf\n",
    "is.factor(mydf$med)"
   ]
  },
  {
   "cell_type": "code",
   "execution_count": 7,
   "metadata": {},
   "outputs": [
    {
     "data": {
      "text/plain": [
       "              \n",
       "               Fall Spring Summer Winter\n",
       "  Blowing_sand    1      6      2      2\n",
       "  Clear        2110   1653   2080   1608\n",
       "  Fog            21     22     14     55\n",
       "  Hail            1     11      1     18\n",
       "  Other         328    329    345    370\n",
       "  Rain          161    132    138    219\n",
       "  Snow            0     53      1     42"
      ]
     },
     "metadata": {},
     "output_type": "display_data"
    }
   ],
   "source": [
    "table(brms_data$Weather, brms_data$Season) \n",
    "#cross table to check which subgroup should be collapsed"
   ]
  },
  {
   "cell_type": "markdown",
   "metadata": {},
   "source": [
    "## 2.2 Collapse some categories within Weather"
   ]
  },
  {
   "cell_type": "code",
   "execution_count": 8,
   "metadata": {
    "collapsed": true
   },
   "outputs": [],
   "source": [
    "brms_data$Weather <- `levels<-`(factor(brms_data$Weather), list(\"Other\"=c(\"Other\",\"Blowing_sand\",\"Hail\"),\n",
    "                                                                \"Fog\"=c(\"Fog\"),\"Snow\"=c(\"Snow\"),\n",
    "                                                                \"Rain\"=c(\"Rain\"),\"Clear\"=c(\"Clear\")))\n",
    "#we recode \"Other\" to incorporate more categories and keep the remaining categories"
   ]
  },
  {
   "cell_type": "markdown",
   "metadata": {},
   "source": [
    "## 2.3 Change the columns into factor variables"
   ]
  },
  {
   "cell_type": "code",
   "execution_count": 9,
   "metadata": {
    "collapsed": true
   },
   "outputs": [],
   "source": [
    "brms_data$Season <- factor(brms_data$Season)\n",
    "brms_data$Region <- factor(brms_data$Region)\n",
    "brms_data$Day <- factor(brms_data$Day)\n",
    "brms_data$period <- factor(brms_data$period)\n",
    "#$ dollar sign here mens extracting some columns from the table\n",
    "#convert to factor var for being grouping parameter"
   ]
  },
  {
   "cell_type": "code",
   "execution_count": 10,
   "metadata": {},
   "outputs": [
    {
     "data": {
      "text/html": [
       "TRUE"
      ],
      "text/latex": [
       "TRUE"
      ],
      "text/markdown": [
       "TRUE"
      ],
      "text/plain": [
       "[1] TRUE"
      ]
     },
     "metadata": {},
     "output_type": "display_data"
    },
    {
     "data": {
      "text/html": [
       "TRUE"
      ],
      "text/latex": [
       "TRUE"
      ],
      "text/markdown": [
       "TRUE"
      ],
      "text/plain": [
       "[1] TRUE"
      ]
     },
     "metadata": {},
     "output_type": "display_data"
    },
    {
     "data": {
      "text/html": [
       "TRUE"
      ],
      "text/latex": [
       "TRUE"
      ],
      "text/markdown": [
       "TRUE"
      ],
      "text/plain": [
       "[1] TRUE"
      ]
     },
     "metadata": {},
     "output_type": "display_data"
    }
   ],
   "source": [
    "is.factor(brms_data$Weather)\n",
    "is.factor(brms_data$Day)   #check the nature of columns, whether it is factor variable\n",
    "is.factor(brms_data$period)"
   ]
  },
  {
   "cell_type": "code",
   "execution_count": 11,
   "metadata": {},
   "outputs": [
    {
     "data": {
      "text/html": [
       "<ol class=list-inline>\n",
       "\t<li>'Other'</li>\n",
       "\t<li>'Fog'</li>\n",
       "\t<li>'Snow'</li>\n",
       "\t<li>'Rain'</li>\n",
       "\t<li>'Clear'</li>\n",
       "</ol>\n"
      ],
      "text/latex": [
       "\\begin{enumerate*}\n",
       "\\item 'Other'\n",
       "\\item 'Fog'\n",
       "\\item 'Snow'\n",
       "\\item 'Rain'\n",
       "\\item 'Clear'\n",
       "\\end{enumerate*}\n"
      ],
      "text/markdown": [
       "1. 'Other'\n",
       "2. 'Fog'\n",
       "3. 'Snow'\n",
       "4. 'Rain'\n",
       "5. 'Clear'\n",
       "\n",
       "\n"
      ],
      "text/plain": [
       "[1] \"Other\" \"Fog\"   \"Snow\"  \"Rain\"  \"Clear\""
      ]
     },
     "metadata": {},
     "output_type": "display_data"
    },
    {
     "data": {
      "text/html": [
       "<dl class=dl-horizontal>\n",
       "\t<dt>Other</dt>\n",
       "\t\t<dd>1414</dd>\n",
       "\t<dt>Fog</dt>\n",
       "\t\t<dd>112</dd>\n",
       "\t<dt>Snow</dt>\n",
       "\t\t<dd>96</dd>\n",
       "\t<dt>Rain</dt>\n",
       "\t\t<dd>650</dd>\n",
       "\t<dt>Clear</dt>\n",
       "\t\t<dd>7451</dd>\n",
       "</dl>\n"
      ],
      "text/latex": [
       "\\begin{description*}\n",
       "\\item[Other] 1414\n",
       "\\item[Fog] 112\n",
       "\\item[Snow] 96\n",
       "\\item[Rain] 650\n",
       "\\item[Clear] 7451\n",
       "\\end{description*}\n"
      ],
      "text/markdown": [
       "Other\n",
       ":   1414Fog\n",
       ":   112Snow\n",
       ":   96Rain\n",
       ":   650Clear\n",
       ":   7451\n",
       "\n"
      ],
      "text/plain": [
       "Other   Fog  Snow  Rain Clear \n",
       " 1414   112    96   650  7451 "
      ]
     },
     "metadata": {},
     "output_type": "display_data"
    }
   ],
   "source": [
    "levels(brms_data$Weather)\n",
    "summary(brms_data$Weather) # already inclueded"
   ]
  },
  {
   "cell_type": "markdown",
   "metadata": {},
   "source": [
    "## 3.1 Create crosstap table to summary interacted parameters"
   ]
  },
  {
   "cell_type": "code",
   "execution_count": 12,
   "metadata": {},
   "outputs": [
    {
     "data": {
      "text/plain": [
       "       \n",
       "        Fall Spring Summer Winter\n",
       "  Other  330    346    348    390\n",
       "  Fog     21     22     14     55\n",
       "  Snow     0     53      1     42\n",
       "  Rain   161    132    138    219\n",
       "  Clear 2110   1653   2080   1608"
      ]
     },
     "metadata": {},
     "output_type": "display_data"
    }
   ],
   "source": [
    "table(brms_data$Weather, brms_data$Season) # we are trying to create an intersected column with season and weather"
   ]
  },
  {
   "cell_type": "code",
   "execution_count": 13,
   "metadata": {},
   "outputs": [
    {
     "data": {
      "text/plain": [
       "             \n",
       "              nonpeak peak\n",
       "  Normal Day     4026 2035\n",
       "  Traffic Day    2218 1444"
      ]
     },
     "metadata": {},
     "output_type": "display_data"
    }
   ],
   "source": [
    "table(brms_data$Day, brms_data$period)"
   ]
  },
  {
   "cell_type": "markdown",
   "metadata": {},
   "source": [
    "## 3.2 Create interaction variable"
   ]
  },
  {
   "cell_type": "code",
   "execution_count": 14,
   "metadata": {
    "collapsed": true
   },
   "outputs": [],
   "source": [
    "brms_data$Weather_season <-interaction(brms_data$Weather, brms_data$Season)\n",
    "# create weather_season factor var to exclude snow.fall and snow.summer subgroup"
   ]
  },
  {
   "cell_type": "code",
   "execution_count": 15,
   "metadata": {},
   "outputs": [
    {
     "data": {
      "text/html": [
       "<ol class=list-inline>\n",
       "\t<li>'FATALS'</li>\n",
       "\t<li>'Sequence'</li>\n",
       "\t<li>'ROLLOVER'</li>\n",
       "\t<li>'SPEED'</li>\n",
       "\t<li>'Obstruction'</li>\n",
       "\t<li>'DRUNK_DR'</li>\n",
       "\t<li>'VE_TOTAL'</li>\n",
       "\t<li>'VE_FORMS'</li>\n",
       "\t<li>'PERMVIT'</li>\n",
       "\t<li>'Principal.Arterial'</li>\n",
       "\t<li>'Minor.Arterial'</li>\n",
       "\t<li>'Collector'</li>\n",
       "\t<li>'Intersection'</li>\n",
       "\t<li>'Daylight'</li>\n",
       "\t<li>'Region'</li>\n",
       "\t<li>'Season'</li>\n",
       "\t<li>'Weather'</li>\n",
       "\t<li>'Day'</li>\n",
       "\t<li>'period'</li>\n",
       "\t<li>'Winter'</li>\n",
       "\t<li>'Spring'</li>\n",
       "\t<li>'Summer'</li>\n",
       "\t<li>'WEEKDAY'</li>\n",
       "\t<li>'SAT'</li>\n",
       "\t<li>'morning_peak'</li>\n",
       "\t<li>'night_peak'</li>\n",
       "\t<li>'after_work'</li>\n",
       "\t<li>'noon'</li>\n",
       "\t<li>'afternoon'</li>\n",
       "\t<li>'LATITUDE'</li>\n",
       "\t<li>'LONGITUD'</li>\n",
       "\t<li>'Clear'</li>\n",
       "\t<li>'Rain'</li>\n",
       "\t<li>'Hail'</li>\n",
       "\t<li>'Snow'</li>\n",
       "\t<li>'Fog'</li>\n",
       "\t<li>'Blowing_sand'</li>\n",
       "\t<li>'Weather_season'</li>\n",
       "</ol>\n"
      ],
      "text/latex": [
       "\\begin{enumerate*}\n",
       "\\item 'FATALS'\n",
       "\\item 'Sequence'\n",
       "\\item 'ROLLOVER'\n",
       "\\item 'SPEED'\n",
       "\\item 'Obstruction'\n",
       "\\item 'DRUNK\\_DR'\n",
       "\\item 'VE\\_TOTAL'\n",
       "\\item 'VE\\_FORMS'\n",
       "\\item 'PERMVIT'\n",
       "\\item 'Principal.Arterial'\n",
       "\\item 'Minor.Arterial'\n",
       "\\item 'Collector'\n",
       "\\item 'Intersection'\n",
       "\\item 'Daylight'\n",
       "\\item 'Region'\n",
       "\\item 'Season'\n",
       "\\item 'Weather'\n",
       "\\item 'Day'\n",
       "\\item 'period'\n",
       "\\item 'Winter'\n",
       "\\item 'Spring'\n",
       "\\item 'Summer'\n",
       "\\item 'WEEKDAY'\n",
       "\\item 'SAT'\n",
       "\\item 'morning\\_peak'\n",
       "\\item 'night\\_peak'\n",
       "\\item 'after\\_work'\n",
       "\\item 'noon'\n",
       "\\item 'afternoon'\n",
       "\\item 'LATITUDE'\n",
       "\\item 'LONGITUD'\n",
       "\\item 'Clear'\n",
       "\\item 'Rain'\n",
       "\\item 'Hail'\n",
       "\\item 'Snow'\n",
       "\\item 'Fog'\n",
       "\\item 'Blowing\\_sand'\n",
       "\\item 'Weather\\_season'\n",
       "\\end{enumerate*}\n"
      ],
      "text/markdown": [
       "1. 'FATALS'\n",
       "2. 'Sequence'\n",
       "3. 'ROLLOVER'\n",
       "4. 'SPEED'\n",
       "5. 'Obstruction'\n",
       "6. 'DRUNK_DR'\n",
       "7. 'VE_TOTAL'\n",
       "8. 'VE_FORMS'\n",
       "9. 'PERMVIT'\n",
       "10. 'Principal.Arterial'\n",
       "11. 'Minor.Arterial'\n",
       "12. 'Collector'\n",
       "13. 'Intersection'\n",
       "14. 'Daylight'\n",
       "15. 'Region'\n",
       "16. 'Season'\n",
       "17. 'Weather'\n",
       "18. 'Day'\n",
       "19. 'period'\n",
       "20. 'Winter'\n",
       "21. 'Spring'\n",
       "22. 'Summer'\n",
       "23. 'WEEKDAY'\n",
       "24. 'SAT'\n",
       "25. 'morning_peak'\n",
       "26. 'night_peak'\n",
       "27. 'after_work'\n",
       "28. 'noon'\n",
       "29. 'afternoon'\n",
       "30. 'LATITUDE'\n",
       "31. 'LONGITUD'\n",
       "32. 'Clear'\n",
       "33. 'Rain'\n",
       "34. 'Hail'\n",
       "35. 'Snow'\n",
       "36. 'Fog'\n",
       "37. 'Blowing_sand'\n",
       "38. 'Weather_season'\n",
       "\n",
       "\n"
      ],
      "text/plain": [
       " [1] \"FATALS\"             \"Sequence\"           \"ROLLOVER\"          \n",
       " [4] \"SPEED\"              \"Obstruction\"        \"DRUNK_DR\"          \n",
       " [7] \"VE_TOTAL\"           \"VE_FORMS\"           \"PERMVIT\"           \n",
       "[10] \"Principal.Arterial\" \"Minor.Arterial\"     \"Collector\"         \n",
       "[13] \"Intersection\"       \"Daylight\"           \"Region\"            \n",
       "[16] \"Season\"             \"Weather\"            \"Day\"               \n",
       "[19] \"period\"             \"Winter\"             \"Spring\"            \n",
       "[22] \"Summer\"             \"WEEKDAY\"            \"SAT\"               \n",
       "[25] \"morning_peak\"       \"night_peak\"         \"after_work\"        \n",
       "[28] \"noon\"               \"afternoon\"          \"LATITUDE\"          \n",
       "[31] \"LONGITUD\"           \"Clear\"              \"Rain\"              \n",
       "[34] \"Hail\"               \"Snow\"               \"Fog\"               \n",
       "[37] \"Blowing_sand\"       \"Weather_season\"    "
      ]
     },
     "metadata": {},
     "output_type": "display_data"
    },
    {
     "data": {
      "text/html": [
       "TRUE"
      ],
      "text/latex": [
       "TRUE"
      ],
      "text/markdown": [
       "TRUE"
      ],
      "text/plain": [
       "[1] TRUE"
      ]
     },
     "metadata": {},
     "output_type": "display_data"
    },
    {
     "data": {
      "text/html": [
       "9723"
      ],
      "text/latex": [
       "9723"
      ],
      "text/markdown": [
       "9723"
      ],
      "text/plain": [
       "[1] 9723"
      ]
     },
     "metadata": {},
     "output_type": "display_data"
    }
   ],
   "source": [
    "names(brms_data)\n",
    "brms_data$Weather_season <- factor(brms_data$Weather_season)\n",
    "is.factor(brms_data$Weather_season)\n",
    "nrow(brms_data)"
   ]
  },
  {
   "cell_type": "markdown",
   "metadata": {},
   "source": [
    "\n",
    "summary(brms_data$Weather)\n",
    "counts <- table(brms_data$Weather)\n",
    "barplot(counts, main=\"Weather Distribution\", \n",
    "  \txlab=\"Various Weather Situations\")\n"
   ]
  },
  {
   "cell_type": "code",
   "execution_count": 16,
   "metadata": {},
   "outputs": [
    {
     "data": {
      "text/html": [
       "<dl class=dl-horizontal>\n",
       "\t<dt>Other.Fall</dt>\n",
       "\t\t<dd>330</dd>\n",
       "\t<dt>Fog.Fall</dt>\n",
       "\t\t<dd>21</dd>\n",
       "\t<dt>Rain.Fall</dt>\n",
       "\t\t<dd>161</dd>\n",
       "\t<dt>Clear.Fall</dt>\n",
       "\t\t<dd>2110</dd>\n",
       "\t<dt>Other.Spring</dt>\n",
       "\t\t<dd>346</dd>\n",
       "\t<dt>Fog.Spring</dt>\n",
       "\t\t<dd>22</dd>\n",
       "\t<dt>Snow.Spring</dt>\n",
       "\t\t<dd>53</dd>\n",
       "\t<dt>Rain.Spring</dt>\n",
       "\t\t<dd>132</dd>\n",
       "\t<dt>Clear.Spring</dt>\n",
       "\t\t<dd>1653</dd>\n",
       "\t<dt>Other.Summer</dt>\n",
       "\t\t<dd>348</dd>\n",
       "\t<dt>Fog.Summer</dt>\n",
       "\t\t<dd>14</dd>\n",
       "\t<dt>Snow.Summer</dt>\n",
       "\t\t<dd>1</dd>\n",
       "\t<dt>Rain.Summer</dt>\n",
       "\t\t<dd>138</dd>\n",
       "\t<dt>Clear.Summer</dt>\n",
       "\t\t<dd>2080</dd>\n",
       "\t<dt>Other.Winter</dt>\n",
       "\t\t<dd>390</dd>\n",
       "\t<dt>Fog.Winter</dt>\n",
       "\t\t<dd>55</dd>\n",
       "\t<dt>Snow.Winter</dt>\n",
       "\t\t<dd>42</dd>\n",
       "\t<dt>Rain.Winter</dt>\n",
       "\t\t<dd>219</dd>\n",
       "\t<dt>Clear.Winter</dt>\n",
       "\t\t<dd>1608</dd>\n",
       "</dl>\n"
      ],
      "text/latex": [
       "\\begin{description*}\n",
       "\\item[Other.Fall] 330\n",
       "\\item[Fog.Fall] 21\n",
       "\\item[Rain.Fall] 161\n",
       "\\item[Clear.Fall] 2110\n",
       "\\item[Other.Spring] 346\n",
       "\\item[Fog.Spring] 22\n",
       "\\item[Snow.Spring] 53\n",
       "\\item[Rain.Spring] 132\n",
       "\\item[Clear.Spring] 1653\n",
       "\\item[Other.Summer] 348\n",
       "\\item[Fog.Summer] 14\n",
       "\\item[Snow.Summer] 1\n",
       "\\item[Rain.Summer] 138\n",
       "\\item[Clear.Summer] 2080\n",
       "\\item[Other.Winter] 390\n",
       "\\item[Fog.Winter] 55\n",
       "\\item[Snow.Winter] 42\n",
       "\\item[Rain.Winter] 219\n",
       "\\item[Clear.Winter] 1608\n",
       "\\end{description*}\n"
      ],
      "text/markdown": [
       "Other.Fall\n",
       ":   330Fog.Fall\n",
       ":   21Rain.Fall\n",
       ":   161Clear.Fall\n",
       ":   2110Other.Spring\n",
       ":   346Fog.Spring\n",
       ":   22Snow.Spring\n",
       ":   53Rain.Spring\n",
       ":   132Clear.Spring\n",
       ":   1653Other.Summer\n",
       ":   348Fog.Summer\n",
       ":   14Snow.Summer\n",
       ":   1Rain.Summer\n",
       ":   138Clear.Summer\n",
       ":   2080Other.Winter\n",
       ":   390Fog.Winter\n",
       ":   55Snow.Winter\n",
       ":   42Rain.Winter\n",
       ":   219Clear.Winter\n",
       ":   1608\n",
       "\n"
      ],
      "text/plain": [
       "  Other.Fall     Fog.Fall    Rain.Fall   Clear.Fall Other.Spring   Fog.Spring \n",
       "         330           21          161         2110          346           22 \n",
       " Snow.Spring  Rain.Spring Clear.Spring Other.Summer   Fog.Summer  Snow.Summer \n",
       "          53          132         1653          348           14            1 \n",
       " Rain.Summer Clear.Summer Other.Winter   Fog.Winter  Snow.Winter  Rain.Winter \n",
       "         138         2080          390           55           42          219 \n",
       "Clear.Winter \n",
       "        1608 "
      ]
     },
     "metadata": {},
     "output_type": "display_data"
    }
   ],
   "source": [
    "summary(brms_data$Weather_season) \n",
    "# summary before delete some subgroup of weather_season\n",
    "# the next step would be remove both record and category(factor var) from weather_season"
   ]
  },
  {
   "cell_type": "markdown",
   "metadata": {},
   "source": [
    "## 3.3 Drop the subgroups that have very few data (Snow.summer & Snow.fall)  "
   ]
  },
  {
   "cell_type": "markdown",
   "metadata": {},
   "source": [
    "#brms_matrix<-as.matrix(brms_data)"
   ]
  },
  {
   "cell_type": "markdown",
   "metadata": {},
   "source": [
    "\"\"\"head(brms_matrix,5)\n",
    "is.matrix(brms_matrix)\n",
    "is.matrix(brms_data)"
   ]
  },
  {
   "cell_type": "code",
   "execution_count": 17,
   "metadata": {},
   "outputs": [
    {
     "data": {
      "text/html": [
       "9722"
      ],
      "text/latex": [
       "9722"
      ],
      "text/markdown": [
       "9722"
      ],
      "text/plain": [
       "[1] 9722"
      ]
     },
     "metadata": {},
     "output_type": "display_data"
    },
    {
     "data": {
      "text/html": [
       "9722"
      ],
      "text/latex": [
       "9722"
      ],
      "text/markdown": [
       "9722"
      ],
      "text/plain": [
       "[1] 9722"
      ]
     },
     "metadata": {},
     "output_type": "display_data"
    },
    {
     "data": {
      "text/html": [
       "<dl class=dl-horizontal>\n",
       "\t<dt>Other.Fall</dt>\n",
       "\t\t<dd>330</dd>\n",
       "\t<dt>Fog.Fall</dt>\n",
       "\t\t<dd>21</dd>\n",
       "\t<dt>Rain.Fall</dt>\n",
       "\t\t<dd>161</dd>\n",
       "\t<dt>Clear.Fall</dt>\n",
       "\t\t<dd>2110</dd>\n",
       "\t<dt>Other.Spring</dt>\n",
       "\t\t<dd>346</dd>\n",
       "\t<dt>Fog.Spring</dt>\n",
       "\t\t<dd>22</dd>\n",
       "\t<dt>Snow.Spring</dt>\n",
       "\t\t<dd>53</dd>\n",
       "\t<dt>Rain.Spring</dt>\n",
       "\t\t<dd>132</dd>\n",
       "\t<dt>Clear.Spring</dt>\n",
       "\t\t<dd>1653</dd>\n",
       "\t<dt>Other.Summer</dt>\n",
       "\t\t<dd>348</dd>\n",
       "\t<dt>Fog.Summer</dt>\n",
       "\t\t<dd>14</dd>\n",
       "\t<dt>Rain.Summer</dt>\n",
       "\t\t<dd>138</dd>\n",
       "\t<dt>Clear.Summer</dt>\n",
       "\t\t<dd>2080</dd>\n",
       "\t<dt>Other.Winter</dt>\n",
       "\t\t<dd>390</dd>\n",
       "\t<dt>Fog.Winter</dt>\n",
       "\t\t<dd>55</dd>\n",
       "\t<dt>Snow.Winter</dt>\n",
       "\t\t<dd>42</dd>\n",
       "\t<dt>Rain.Winter</dt>\n",
       "\t\t<dd>219</dd>\n",
       "\t<dt>Clear.Winter</dt>\n",
       "\t\t<dd>1608</dd>\n",
       "</dl>\n"
      ],
      "text/latex": [
       "\\begin{description*}\n",
       "\\item[Other.Fall] 330\n",
       "\\item[Fog.Fall] 21\n",
       "\\item[Rain.Fall] 161\n",
       "\\item[Clear.Fall] 2110\n",
       "\\item[Other.Spring] 346\n",
       "\\item[Fog.Spring] 22\n",
       "\\item[Snow.Spring] 53\n",
       "\\item[Rain.Spring] 132\n",
       "\\item[Clear.Spring] 1653\n",
       "\\item[Other.Summer] 348\n",
       "\\item[Fog.Summer] 14\n",
       "\\item[Rain.Summer] 138\n",
       "\\item[Clear.Summer] 2080\n",
       "\\item[Other.Winter] 390\n",
       "\\item[Fog.Winter] 55\n",
       "\\item[Snow.Winter] 42\n",
       "\\item[Rain.Winter] 219\n",
       "\\item[Clear.Winter] 1608\n",
       "\\end{description*}\n"
      ],
      "text/markdown": [
       "Other.Fall\n",
       ":   330Fog.Fall\n",
       ":   21Rain.Fall\n",
       ":   161Clear.Fall\n",
       ":   2110Other.Spring\n",
       ":   346Fog.Spring\n",
       ":   22Snow.Spring\n",
       ":   53Rain.Spring\n",
       ":   132Clear.Spring\n",
       ":   1653Other.Summer\n",
       ":   348Fog.Summer\n",
       ":   14Rain.Summer\n",
       ":   138Clear.Summer\n",
       ":   2080Other.Winter\n",
       ":   390Fog.Winter\n",
       ":   55Snow.Winter\n",
       ":   42Rain.Winter\n",
       ":   219Clear.Winter\n",
       ":   1608\n",
       "\n"
      ],
      "text/plain": [
       "  Other.Fall     Fog.Fall    Rain.Fall   Clear.Fall Other.Spring   Fog.Spring \n",
       "         330           21          161         2110          346           22 \n",
       " Snow.Spring  Rain.Spring Clear.Spring Other.Summer   Fog.Summer  Rain.Summer \n",
       "          53          132         1653          348           14          138 \n",
       "Clear.Summer Other.Winter   Fog.Winter  Snow.Winter  Rain.Winter Clear.Winter \n",
       "        2080          390           55           42          219         1608 "
      ]
     },
     "metadata": {},
     "output_type": "display_data"
    }
   ],
   "source": [
    "#result<-filter(brms_data,brms_data$Weather_season==\"Snow.Summer\")\n",
    "#nrow(result)\n",
    "#brms_data<-brms_data[!(brms_data$Weather_season==\"Snow.Summer\"|brms_data$Weather_season==\"Snow.Fall\"),]\n",
    "\n",
    "# delete rows (the record), but still have the category under weather_season\n",
    "\n",
    "\n",
    "nrow(brms_data[brms_data$Weather_season != \"Snow.Summer\", , drop=FALSE])\n",
    "\n",
    "brms_data<-brms_data[brms_data$Weather_season != \"Snow.Summer\", , drop=FALSE]\n",
    "\n",
    "brms_data$Weather_season<-factor(brms_data$Weather_season)\n",
    "\n",
    "nrow(brms_data)\n",
    "\n",
    "summary(brms_data$Weather_season) \n",
    "\n",
    "# here, the recoding has completed\n"
   ]
  },
  {
   "cell_type": "code",
   "execution_count": 18,
   "metadata": {
    "collapsed": true
   },
   "outputs": [],
   "source": [
    "#brms_data$Weather_season <- `levels<-`(factor(brms_data$Weather_season), list(\"Snow.Spring\"=c(\"Snow.Spring\",\"Snow.Summer\")))\n",
    "\n",
    "                                                             "
   ]
  },
  {
   "cell_type": "markdown",
   "metadata": {},
   "source": [
    "## 4 Split the dataset into training and validation parts"
   ]
  },
  {
   "cell_type": "code",
   "execution_count": 19,
   "metadata": {
    "collapsed": true
   },
   "outputs": [],
   "source": [
    "brsmp_size <- floor(0.7*nrow(brms_data))\n",
    "set.seed(12345)\n",
    "brtrain_ind <- sample(seq_len(nrow(brms_data)), size = brsmp_size)\n",
    "brtraining.data <- brms_data[brtrain_ind,]\n",
    "brtesting.data <- brms_data[-brtrain_ind,]   # splitting the dataset into training and validation subset"
   ]
  },
  {
   "cell_type": "code",
   "execution_count": 20,
   "metadata": {},
   "outputs": [
    {
     "data": {
      "text/html": [
       "<table>\n",
       "<thead><tr><th></th><th scope=col>FATALS</th><th scope=col>Sequence</th><th scope=col>ROLLOVER</th><th scope=col>SPEED</th><th scope=col>Obstruction</th><th scope=col>DRUNK_DR</th><th scope=col>VE_TOTAL</th><th scope=col>VE_FORMS</th><th scope=col>PERMVIT</th><th scope=col>Principal.Arterial</th><th scope=col>...</th><th scope=col>afternoon</th><th scope=col>LATITUDE</th><th scope=col>LONGITUD</th><th scope=col>Clear</th><th scope=col>Rain</th><th scope=col>Hail</th><th scope=col>Snow</th><th scope=col>Fog</th><th scope=col>Blowing_sand</th><th scope=col>Weather_season</th></tr></thead>\n",
       "<tbody>\n",
       "\t<tr><th scope=row>7010</th><td>1           </td><td>3           </td><td>0           </td><td>55          </td><td>0           </td><td>0           </td><td>2           </td><td>2           </td><td>2           </td><td>0           </td><td>...         </td><td>0           </td><td>38.87434    </td><td> -83.88585  </td><td>1           </td><td>0           </td><td>0           </td><td>0           </td><td>0           </td><td>0           </td><td>Clear.Winter</td></tr>\n",
       "\t<tr><th scope=row>8515</th><td>1           </td><td>4           </td><td>1           </td><td>44          </td><td>0           </td><td>1           </td><td>1           </td><td>1           </td><td>1           </td><td>0           </td><td>...         </td><td>1           </td><td>43.29648    </td><td>-103.38934  </td><td>1           </td><td>0           </td><td>0           </td><td>0           </td><td>0           </td><td>0           </td><td>Clear.Fall  </td></tr>\n",
       "\t<tr><th scope=row>7398</th><td>1           </td><td>1           </td><td>0           </td><td>35          </td><td>0           </td><td>0           </td><td>1           </td><td>1           </td><td>1           </td><td>1           </td><td>...         </td><td>1           </td><td>40.43500    </td><td> -79.99864  </td><td>1           </td><td>0           </td><td>0           </td><td>0           </td><td>0           </td><td>0           </td><td>Clear.Fall  </td></tr>\n",
       "</tbody>\n",
       "</table>\n"
      ],
      "text/latex": [
       "\\begin{tabular}{r|llllllllllllllllllllllllllllllllllllll}\n",
       "  & FATALS & Sequence & ROLLOVER & SPEED & Obstruction & DRUNK\\_DR & VE\\_TOTAL & VE\\_FORMS & PERMVIT & Principal.Arterial & ... & afternoon & LATITUDE & LONGITUD & Clear & Rain & Hail & Snow & Fog & Blowing\\_sand & Weather\\_season\\\\\n",
       "\\hline\n",
       "\t7010 & 1            & 3            & 0            & 55           & 0            & 0            & 2            & 2            & 2            & 0            & ...          & 0            & 38.87434     &  -83.88585   & 1            & 0            & 0            & 0            & 0            & 0            & Clear.Winter\\\\\n",
       "\t8515 & 1            & 4            & 1            & 44           & 0            & 1            & 1            & 1            & 1            & 0            & ...          & 1            & 43.29648     & -103.38934   & 1            & 0            & 0            & 0            & 0            & 0            & Clear.Fall  \\\\\n",
       "\t7398 & 1            & 1            & 0            & 35           & 0            & 0            & 1            & 1            & 1            & 1            & ...          & 1            & 40.43500     &  -79.99864   & 1            & 0            & 0            & 0            & 0            & 0            & Clear.Fall  \\\\\n",
       "\\end{tabular}\n"
      ],
      "text/markdown": [
       "\n",
       "| <!--/--> | FATALS | Sequence | ROLLOVER | SPEED | Obstruction | DRUNK_DR | VE_TOTAL | VE_FORMS | PERMVIT | Principal.Arterial | ... | afternoon | LATITUDE | LONGITUD | Clear | Rain | Hail | Snow | Fog | Blowing_sand | Weather_season | \n",
       "|---|---|---|\n",
       "| 7010 | 1            | 3            | 0            | 55           | 0            | 0            | 2            | 2            | 2            | 0            | ...          | 0            | 38.87434     |  -83.88585   | 1            | 0            | 0            | 0            | 0            | 0            | Clear.Winter | \n",
       "| 8515 | 1            | 4            | 1            | 44           | 0            | 1            | 1            | 1            | 1            | 0            | ...          | 1            | 43.29648     | -103.38934   | 1            | 0            | 0            | 0            | 0            | 0            | Clear.Fall   | \n",
       "| 7398 | 1            | 1            | 0            | 35           | 0            | 0            | 1            | 1            | 1            | 1            | ...          | 1            | 40.43500     |  -79.99864   | 1            | 0            | 0            | 0            | 0            | 0            | Clear.Fall   | \n",
       "\n",
       "\n"
      ],
      "text/plain": [
       "     FATALS Sequence ROLLOVER SPEED Obstruction DRUNK_DR VE_TOTAL VE_FORMS\n",
       "7010 1      3        0        55    0           0        2        2       \n",
       "8515 1      4        1        44    0           1        1        1       \n",
       "7398 1      1        0        35    0           0        1        1       \n",
       "     PERMVIT Principal.Arterial ... afternoon LATITUDE LONGITUD   Clear Rain\n",
       "7010 2       0                  ... 0         38.87434  -83.88585 1     0   \n",
       "8515 1       0                  ... 1         43.29648 -103.38934 1     0   \n",
       "7398 1       1                  ... 1         40.43500  -79.99864 1     0   \n",
       "     Hail Snow Fog Blowing_sand Weather_season\n",
       "7010 0    0    0   0            Clear.Winter  \n",
       "8515 0    0    0   0            Clear.Fall    \n",
       "7398 0    0    0   0            Clear.Fall    "
      ]
     },
     "metadata": {},
     "output_type": "display_data"
    }
   ],
   "source": [
    "head(brtraining.data,3)"
   ]
  },
  {
   "cell_type": "markdown",
   "metadata": {},
   "source": [
    "## 5 Run Bayesian model \n",
    "\n",
    "Explanation for the model formula:\n",
    "\n",
    "1)\n",
    "Sequence is under the interaction between traffic day and traffic hour\n",
    "SPEED is under the Weather_season level\n",
    "Obstruction is under the weather effect\n",
    "Interaction between Drunk driver and Person on the moving vehicles\n",
    "\n",
    "2)\n",
    "Sequence, SPEED and Obstruction are also included in the population level "
   ]
  },
  {
   "cell_type": "code",
   "execution_count": null,
   "metadata": {},
   "outputs": [
    {
     "name": "stderr",
     "output_type": "stream",
     "text": [
      "Compiling the C++ model\n",
      "Start sampling\n"
     ]
    }
   ],
   "source": [
    "\n",
    "bayes_model <- brm(FATALS ~ (Sequence|Day:period) + (1+SPEED | Weather_season) + (Obstruction|Weather) + \n",
    "                   DRUNK_DR : PERMVIT+ Sequence + SPEED +Obstruction, data=brtraining.data,family=poisson(link = \"log\"),\n",
    "                  chains=6,iter=5500)\n",
    "summary(bayes_model)\n",
    "\n",
    "# : means interaction, |followed by the grouping parameters, before running the hierarchy model, we should\n",
    "# first define the factor variables for the grouping parameters\n",
    "#the result should have the rhat coverge to 1, whereas right now it is lack of chains and iterations\n",
    "\n",
    "#by holding other independent variables constant, one unit change in var (SPEED) will change the strd of posterior distribution \n",
    "#of the fatalities number by *** units---estimate---rhat converge to 1\n",
    "# Rhat might never converge to one, cuz the subset has very lower data content\n",
    "\n",
    "\n",
    "#putting Sequence.etc out of the bracket means population level"
   ]
  },
  {
   "cell_type": "code",
   "execution_count": null,
   "metadata": {
    "collapsed": true
   },
   "outputs": [],
   "source": []
  }
 ],
 "metadata": {
  "kernelspec": {
   "display_name": "R",
   "language": "R",
   "name": "ir"
  },
  "language_info": {
   "codemirror_mode": "r",
   "file_extension": ".r",
   "mimetype": "text/x-r-source",
   "name": "R",
   "pygments_lexer": "r",
   "version": "3.4.3"
  }
 },
 "nbformat": 4,
 "nbformat_minor": 2
}
