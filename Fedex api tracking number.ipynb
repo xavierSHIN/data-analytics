{
 "cells": [
  {
   "cell_type": "markdown",
   "metadata": {},
   "source": [
    "### 1. Paul's Example code and Our credentials working well between Magento and FedEx"
   ]
  },
  {
   "cell_type": "code",
   "execution_count": null,
   "metadata": {},
   "outputs": [],
   "source": [
    "# client object for the magento api\n",
    "magClient = zeep.Client(URL_HERE)\n",
    "\n",
    "# authenticate session -- this is specific to the magento api, fedex may have a different authentication scheme\n",
    "magSession = magClient.service.login(USERNAME_HERE, KEY_HERE)\n",
    "\n",
    "# call api named 'salesOrderShipmentCreateAndAddTrack' with required parameters\n",
    "magShipment = magClient.service.salesOrderShipmentCreateAndAddTrack(\n",
    "                sessionId = magSession\n",
    "                , orderIncrementId = magOrderId\n",
    "                , itemsQty = orderItems\n",
    "                , carrier = carrierCode\n",
    "                , trackNumber = trackingNumber\n",
    "                , title = shipMethod\n",
    "                , comment = \"\"\n",
    "                , email = sendEmail\n",
    "                , includeComment = 0\n",
    "        )"
   ]
  },
  {
   "cell_type": "code",
   "execution_count": null,
   "metadata": {},
   "outputs": [],
   "source": [
    "tracking numbers are available in reporting.mag_shipment_items\n",
    "\n",
    "our creds are:\n",
    "\n",
    "\"key\": \"xc7K0YOJE81jv4SC\"\n",
    "\"password\": \"idhhH2bvfRP6pouS9i7xKA61j\"\n",
    "\"account\": \"165459512\"\n",
    "\"meter_number\": \"108321767\"\n",
    "\n",
    "zeep is a nice python library for soap requests\n",
    "RCurl in R should work too but would require more xml wrangling"
   ]
  },
  {
   "cell_type": "markdown",
   "metadata": {
    "heading_collapsed": true
   },
   "source": [
    "### 2. Xu's Test work with test keys under version 16"
   ]
  },
  {
   "cell_type": "code",
   "execution_count": null,
   "metadata": {
    "hidden": true
   },
   "outputs": [],
   "source": [
    "Required for All Web Services\n",
    "my test credentials\n",
    "\n",
    "Developer Test Key: vzgghetVY9WGLLm6\n",
    "    pwd: ECymX9DXJb1CjASe7Z1glZxef \n",
    "\n",
    "Test Account Number:510087720\n",
    "Test Meter Number: 119092699\n"
   ]
  },
  {
   "cell_type": "code",
   "execution_count": 35,
   "metadata": {
    "hidden": true
   },
   "outputs": [],
   "source": [
    "testClient=zeep.Client('C:\\\\Users\\\\Xavier\\\\Downloads\\\\TrackService\\\\TrackService_v16.wsdl')\n",
    "response_test = testClient.service.track(\n",
    "    WebAuthenticationDetail = {\"UserCredential\": \n",
    "                               {'Key': 'vzgghetVY9WGLLm6', \n",
    "                                'Password': 'ECymX9DXJb1CjASe7Z1glZxef'}},\n",
    "    ClientDetail = {'AccountNumber': '510087720', \n",
    "                    'MeterNumber': '119092699'},\n",
    "    TransactionDetail = {\n",
    "                'CustomerTransactionId': 'Track By Number_v16',\n",
    "                'Localization': {\n",
    "                    'LanguageCode': 'EN',\n",
    "                    'LocaleCode': 'US'\n",
    "                }},\n",
    "    Version = {\n",
    "            'ServiceId': 'trck',\n",
    "            'Major': '16', \n",
    "            'Intermediate': '0',\n",
    "            'Minor': '0'\n",
    "    },\n",
    "     SelectionDetails= {\n",
    "                'CarrierCode': 'FDXG',\n",
    "                'PackageIdentifier': {\n",
    "                    'Type': 'TRACKING_NUMBER_OR_DOORTAG',\n",
    "                    'Value': 490817110347333 \n",
    "                }\n",
    "    }\n",
    "    \n",
    ")"
   ]
  },
  {
   "cell_type": "code",
   "execution_count": 37,
   "metadata": {
    "hidden": true
   },
   "outputs": [],
   "source": [
    "node_test=testClient.create_message(testClient.service, 'track',\n",
    "    WebAuthenticationDetail = {\"UserCredential\": \n",
    "                               {'Key': 'vzgghetVY9WGLLm6', \n",
    "                                'Password': 'ECymX9DXJb1CjASe7Z1glZxef'}},\n",
    "    ClientDetail = {'AccountNumber': '510087720', \n",
    "                    'MeterNumber': '119092699'},\n",
    "    TransactionDetail = {\n",
    "                'CustomerTransactionId': 'Track By Number_v16',\n",
    "                'Localization': {\n",
    "                    'LanguageCode': 'EN',\n",
    "                    'LocaleCode': 'US'\n",
    "                }},\n",
    "    Version = {\n",
    "            'ServiceId': 'trck',\n",
    "            'Major': '16', \n",
    "            'Intermediate': '0',\n",
    "            'Minor': '0'\n",
    "    },\n",
    "     SelectionDetails= {\n",
    "                'CarrierCode': 'FDXG',\n",
    "                'PackageIdentifier': {\n",
    "                    'Type': 'TRACKING_NUMBER_OR_DOORTAG',\n",
    "                    'Value': 490817110347333 \n",
    "                }\n",
    "    }\n",
    "    \n",
    ")\n",
    "tree = ET.ElementTree(node_test)\n",
    "tree.write('fedex_request_test.xml')"
   ]
  },
  {
   "cell_type": "markdown",
   "metadata": {},
   "source": [
    "### 3. Code for FedEx API service 'track' under version 16 and version 5 "
   ]
  },
  {
   "cell_type": "markdown",
   "metadata": {},
   "source": [
    "Web Services - Soap/XML URL's \n",
    "\n",
    "Test - https://wsbeta.fedex.com:443/web-services\n",
    "Production - https://ws.fedex.com:443/web-services\n",
    "\n",
    "Web Services - Non Soap/XML URL's \n",
    "\n",
    "Test - https://wsbeta.fedex.com:443/xml\n",
    "Production - https://ws.fedex.com:443/xml"
   ]
  },
  {
   "cell_type": "code",
   "execution_count": 19,
   "metadata": {},
   "outputs": [],
   "source": [
    "import zeep\n",
    "import lxml\n",
    "import xml.etree.ElementTree as ET"
   ]
  },
  {
   "cell_type": "code",
   "execution_count": 18,
   "metadata": {},
   "outputs": [],
   "source": [
    "v16Client=zeep.Client('C:\\\\Users\\\\Xavier\\\\Downloads\\\\TrackService\\\\TrackService_v16.wsdl')"
   ]
  },
  {
   "cell_type": "code",
   "execution_count": 21,
   "metadata": {},
   "outputs": [],
   "source": [
    "\n",
    "response_16 = v16Client.service.track(\n",
    "    WebAuthenticationDetail = {\"UserCredential\": \n",
    "                               {'Key': 'xc7K0YOJE81jv4SC', \n",
    "                                'Password': 'idhhH2bvfRP6pouS9i7xKA61j'}},\n",
    "    ClientDetail = {'AccountNumber': '165459512', \n",
    "                    'MeterNumber': '108321767'},\n",
    "    TransactionDetail = {\n",
    "                'CustomerTransactionId': 'Track By Number_v16',\n",
    "                'Localization': {\n",
    "                    'LanguageCode': 'EN',\n",
    "                    'LocaleCode': 'US'\n",
    "                }},\n",
    "    Version = {\n",
    "            'ServiceId': 'trck',\n",
    "            'Major': '16', \n",
    "            'Intermediate': '0',\n",
    "            'Minor': '0'\n",
    "    },\n",
    "     SelectionDetails= {\n",
    "                'CarrierCode': 'FDXG',\n",
    "                'PackageIdentifier': {\n",
    "                    'Type': 'TRACKING_NUMBER_OR_DOORTAG',\n",
    "                    'Value': 490817110347333 \n",
    "                }\n",
    "    }\n",
    "    \n",
    ")"
   ]
  },
  {
   "cell_type": "code",
   "execution_count": 22,
   "metadata": {},
   "outputs": [
    {
     "data": {
      "text/plain": [
       "{\n",
       "    'HighestSeverity': 'ERROR',\n",
       "    'Notifications': [\n",
       "        {\n",
       "            'Severity': 'ERROR',\n",
       "            'Source': 'prof',\n",
       "            'Code': '1000',\n",
       "            'Message': 'Authentication Failed',\n",
       "            'LocalizedMessage': None,\n",
       "            'MessageParameters': []\n",
       "        }\n",
       "    ],\n",
       "    'TransactionDetail': {\n",
       "        'CustomerTransactionId': 'Track By Number_v16',\n",
       "        'Localization': {\n",
       "            'LanguageCode': 'EN',\n",
       "            'LocaleCode': 'US'\n",
       "        }\n",
       "    },\n",
       "    'Version': {\n",
       "        'ServiceId': 'trck',\n",
       "        'Major': 16L,\n",
       "        'Intermediate': 0L,\n",
       "        'Minor': 0L\n",
       "    },\n",
       "    'CompletedTrackDetails': []\n",
       "}"
      ]
     },
     "execution_count": 22,
     "metadata": {},
     "output_type": "execute_result"
    }
   ],
   "source": [
    "response_16"
   ]
  },
  {
   "cell_type": "code",
   "execution_count": 23,
   "metadata": {},
   "outputs": [
    {
     "data": {
      "text/plain": [
       "<Element {http://schemas.xmlsoap.org/soap/envelope/}Envelope at 0x7d07948>"
      ]
     },
     "execution_count": 23,
     "metadata": {},
     "output_type": "execute_result"
    }
   ],
   "source": [
    "#trying to create raw XML\n",
    "node_v16 = v16Client.create_message(v16Client.service, 'track',\n",
    "    WebAuthenticationDetail = {\"UserCredential\": {'Key': 'xc7K0YOJE81jv4SC', 'Password': 'idhhH2bvfRP6pouS9i7xKA61j'}},\n",
    "    ClientDetail = {'AccountNumber': '165459512', 'MeterNumber': '108321767'},\n",
    "    TransactionDetail = {\n",
    "                'CustomerTransactionId': 'Track By Number_v16',\n",
    "                'Localization': {\n",
    "                    'LanguageCode': 'EN',\n",
    "                    'LocaleCode': 'US'\n",
    "                }},\n",
    "    Version = {\n",
    "            'ServiceId': 'trck',\n",
    "            'Major': '16', \n",
    "            'Intermediate': '0',\n",
    "            'Minor': '0'\n",
    "    },\n",
    "     SelectionDetails= {\n",
    "                'CarrierCode': 'FDXG',\n",
    "                'PackageIdentifier': {\n",
    "                    'Type': 'TRACKING_NUMBER_OR_DOORTAG',\n",
    "                    'Value': 490817110347333 \n",
    "                }\n",
    "    }\n",
    "    \n",
    ")\n",
    "node_v16"
   ]
  },
  {
   "cell_type": "code",
   "execution_count": 30,
   "metadata": {},
   "outputs": [],
   "source": [
    "tree = ET.ElementTree(node_v16)\n",
    "tree.write('fedex_request_v16.xml')"
   ]
  },
  {
   "cell_type": "code",
   "execution_count": 31,
   "metadata": {},
   "outputs": [],
   "source": [
    "v5Client=zeep.Client('C:\\\\Users\\\\Xavier\\\\Downloads\\\\TrackService\\\\TrackService_v5.wsdl')"
   ]
  },
  {
   "cell_type": "code",
   "execution_count": 32,
   "metadata": {},
   "outputs": [
    {
     "ename": "MissingSchema",
     "evalue": "Invalid URL '': No schema supplied. Perhaps you meant http://?",
     "output_type": "error",
     "traceback": [
      "\u001b[1;31m---------------------------------------------------------------------------\u001b[0m",
      "\u001b[1;31mMissingSchema\u001b[0m                             Traceback (most recent call last)",
      "\u001b[1;32m<ipython-input-32-c336a4480754>\u001b[0m in \u001b[0;36m<module>\u001b[1;34m()\u001b[0m\n\u001b[0;32m     10\u001b[0m     PackageIdentifier = {\n\u001b[0;32m     11\u001b[0m                     \u001b[1;34m'Type'\u001b[0m\u001b[1;33m:\u001b[0m \u001b[1;34m'TRACKING_NUMBER_OR_DOORTAG'\u001b[0m\u001b[1;33m,\u001b[0m\u001b[1;33m\u001b[0m\u001b[0m\n\u001b[1;32m---> 12\u001b[1;33m                     'Value': 490817110347333}   \n\u001b[0m\u001b[0;32m     13\u001b[0m )\n",
      "\u001b[1;32mC:\\Users\\Xavier\\Anaconda2\\lib\\site-packages\\zeep\\proxy.pyc\u001b[0m in \u001b[0;36m__call__\u001b[1;34m(self, *args, **kwargs)\u001b[0m\n\u001b[0;32m     40\u001b[0m         return self._proxy._binding.send(\n\u001b[0;32m     41\u001b[0m             \u001b[0mself\u001b[0m\u001b[1;33m.\u001b[0m\u001b[0m_proxy\u001b[0m\u001b[1;33m.\u001b[0m\u001b[0m_client\u001b[0m\u001b[1;33m,\u001b[0m \u001b[0mself\u001b[0m\u001b[1;33m.\u001b[0m\u001b[0m_proxy\u001b[0m\u001b[1;33m.\u001b[0m\u001b[0m_binding_options\u001b[0m\u001b[1;33m,\u001b[0m\u001b[1;33m\u001b[0m\u001b[0m\n\u001b[1;32m---> 42\u001b[1;33m             self._op_name, args, kwargs)\n\u001b[0m\u001b[0;32m     43\u001b[0m \u001b[1;33m\u001b[0m\u001b[0m\n\u001b[0;32m     44\u001b[0m \u001b[1;33m\u001b[0m\u001b[0m\n",
      "\u001b[1;32mC:\\Users\\Xavier\\Anaconda2\\lib\\site-packages\\zeep\\wsdl\\bindings\\soap.pyc\u001b[0m in \u001b[0;36msend\u001b[1;34m(self, client, options, operation, args, kwargs)\u001b[0m\n\u001b[0;32m    122\u001b[0m \u001b[1;33m\u001b[0m\u001b[0m\n\u001b[0;32m    123\u001b[0m         response = client.transport.post_xml(\n\u001b[1;32m--> 124\u001b[1;33m             options['address'], envelope, http_headers)\n\u001b[0m\u001b[0;32m    125\u001b[0m \u001b[1;33m\u001b[0m\u001b[0m\n\u001b[0;32m    126\u001b[0m         \u001b[0moperation_obj\u001b[0m \u001b[1;33m=\u001b[0m \u001b[0mself\u001b[0m\u001b[1;33m.\u001b[0m\u001b[0mget\u001b[0m\u001b[1;33m(\u001b[0m\u001b[0moperation\u001b[0m\u001b[1;33m)\u001b[0m\u001b[1;33m\u001b[0m\u001b[0m\n",
      "\u001b[1;32mC:\\Users\\Xavier\\Anaconda2\\lib\\site-packages\\zeep\\transports.pyc\u001b[0m in \u001b[0;36mpost_xml\u001b[1;34m(self, address, envelope, headers)\u001b[0m\n\u001b[0;32m     93\u001b[0m         \"\"\"\n\u001b[0;32m     94\u001b[0m         \u001b[0mmessage\u001b[0m \u001b[1;33m=\u001b[0m \u001b[0metree_to_string\u001b[0m\u001b[1;33m(\u001b[0m\u001b[0menvelope\u001b[0m\u001b[1;33m)\u001b[0m\u001b[1;33m\u001b[0m\u001b[0m\n\u001b[1;32m---> 95\u001b[1;33m         \u001b[1;32mreturn\u001b[0m \u001b[0mself\u001b[0m\u001b[1;33m.\u001b[0m\u001b[0mpost\u001b[0m\u001b[1;33m(\u001b[0m\u001b[0maddress\u001b[0m\u001b[1;33m,\u001b[0m \u001b[0mmessage\u001b[0m\u001b[1;33m,\u001b[0m \u001b[0mheaders\u001b[0m\u001b[1;33m)\u001b[0m\u001b[1;33m\u001b[0m\u001b[0m\n\u001b[0m\u001b[0;32m     96\u001b[0m \u001b[1;33m\u001b[0m\u001b[0m\n\u001b[0;32m     97\u001b[0m     \u001b[1;32mdef\u001b[0m \u001b[0mload\u001b[0m\u001b[1;33m(\u001b[0m\u001b[0mself\u001b[0m\u001b[1;33m,\u001b[0m \u001b[0murl\u001b[0m\u001b[1;33m)\u001b[0m\u001b[1;33m:\u001b[0m\u001b[1;33m\u001b[0m\u001b[0m\n",
      "\u001b[1;32mC:\\Users\\Xavier\\Anaconda2\\lib\\site-packages\\zeep\\transports.pyc\u001b[0m in \u001b[0;36mpost\u001b[1;34m(self, address, message, headers)\u001b[0m\n\u001b[0;32m     65\u001b[0m             \u001b[0mdata\u001b[0m\u001b[1;33m=\u001b[0m\u001b[0mmessage\u001b[0m\u001b[1;33m,\u001b[0m\u001b[1;33m\u001b[0m\u001b[0m\n\u001b[0;32m     66\u001b[0m             \u001b[0mheaders\u001b[0m\u001b[1;33m=\u001b[0m\u001b[0mheaders\u001b[0m\u001b[1;33m,\u001b[0m\u001b[1;33m\u001b[0m\u001b[0m\n\u001b[1;32m---> 67\u001b[1;33m             timeout=self.operation_timeout)\n\u001b[0m\u001b[0;32m     68\u001b[0m \u001b[1;33m\u001b[0m\u001b[0m\n\u001b[0;32m     69\u001b[0m         \u001b[1;32mif\u001b[0m \u001b[0mself\u001b[0m\u001b[1;33m.\u001b[0m\u001b[0mlogger\u001b[0m\u001b[1;33m.\u001b[0m\u001b[0misEnabledFor\u001b[0m\u001b[1;33m(\u001b[0m\u001b[0mlogging\u001b[0m\u001b[1;33m.\u001b[0m\u001b[0mDEBUG\u001b[0m\u001b[1;33m)\u001b[0m\u001b[1;33m:\u001b[0m\u001b[1;33m\u001b[0m\u001b[0m\n",
      "\u001b[1;32mC:\\Users\\Xavier\\Anaconda2\\lib\\site-packages\\requests\\sessions.pyc\u001b[0m in \u001b[0;36mpost\u001b[1;34m(self, url, data, json, **kwargs)\u001b[0m\n\u001b[0;32m    553\u001b[0m         \"\"\"\n\u001b[0;32m    554\u001b[0m \u001b[1;33m\u001b[0m\u001b[0m\n\u001b[1;32m--> 555\u001b[1;33m         \u001b[1;32mreturn\u001b[0m \u001b[0mself\u001b[0m\u001b[1;33m.\u001b[0m\u001b[0mrequest\u001b[0m\u001b[1;33m(\u001b[0m\u001b[1;34m'POST'\u001b[0m\u001b[1;33m,\u001b[0m \u001b[0murl\u001b[0m\u001b[1;33m,\u001b[0m \u001b[0mdata\u001b[0m\u001b[1;33m=\u001b[0m\u001b[0mdata\u001b[0m\u001b[1;33m,\u001b[0m \u001b[0mjson\u001b[0m\u001b[1;33m=\u001b[0m\u001b[0mjson\u001b[0m\u001b[1;33m,\u001b[0m \u001b[1;33m**\u001b[0m\u001b[0mkwargs\u001b[0m\u001b[1;33m)\u001b[0m\u001b[1;33m\u001b[0m\u001b[0m\n\u001b[0m\u001b[0;32m    556\u001b[0m \u001b[1;33m\u001b[0m\u001b[0m\n\u001b[0;32m    557\u001b[0m     \u001b[1;32mdef\u001b[0m \u001b[0mput\u001b[0m\u001b[1;33m(\u001b[0m\u001b[0mself\u001b[0m\u001b[1;33m,\u001b[0m \u001b[0murl\u001b[0m\u001b[1;33m,\u001b[0m \u001b[0mdata\u001b[0m\u001b[1;33m=\u001b[0m\u001b[0mNone\u001b[0m\u001b[1;33m,\u001b[0m \u001b[1;33m**\u001b[0m\u001b[0mkwargs\u001b[0m\u001b[1;33m)\u001b[0m\u001b[1;33m:\u001b[0m\u001b[1;33m\u001b[0m\u001b[0m\n",
      "\u001b[1;32mC:\\Users\\Xavier\\Anaconda2\\lib\\site-packages\\requests\\sessions.pyc\u001b[0m in \u001b[0;36mrequest\u001b[1;34m(self, method, url, params, data, headers, cookies, files, auth, timeout, allow_redirects, proxies, hooks, stream, verify, cert, json)\u001b[0m\n\u001b[0;32m    492\u001b[0m             \u001b[0mhooks\u001b[0m\u001b[1;33m=\u001b[0m\u001b[0mhooks\u001b[0m\u001b[1;33m,\u001b[0m\u001b[1;33m\u001b[0m\u001b[0m\n\u001b[0;32m    493\u001b[0m         )\n\u001b[1;32m--> 494\u001b[1;33m         \u001b[0mprep\u001b[0m \u001b[1;33m=\u001b[0m \u001b[0mself\u001b[0m\u001b[1;33m.\u001b[0m\u001b[0mprepare_request\u001b[0m\u001b[1;33m(\u001b[0m\u001b[0mreq\u001b[0m\u001b[1;33m)\u001b[0m\u001b[1;33m\u001b[0m\u001b[0m\n\u001b[0m\u001b[0;32m    495\u001b[0m \u001b[1;33m\u001b[0m\u001b[0m\n\u001b[0;32m    496\u001b[0m         \u001b[0mproxies\u001b[0m \u001b[1;33m=\u001b[0m \u001b[0mproxies\u001b[0m \u001b[1;32mor\u001b[0m \u001b[1;33m{\u001b[0m\u001b[1;33m}\u001b[0m\u001b[1;33m\u001b[0m\u001b[0m\n",
      "\u001b[1;32mC:\\Users\\Xavier\\Anaconda2\\lib\\site-packages\\requests\\sessions.pyc\u001b[0m in \u001b[0;36mprepare_request\u001b[1;34m(self, request)\u001b[0m\n\u001b[0;32m    435\u001b[0m             \u001b[0mauth\u001b[0m\u001b[1;33m=\u001b[0m\u001b[0mmerge_setting\u001b[0m\u001b[1;33m(\u001b[0m\u001b[0mauth\u001b[0m\u001b[1;33m,\u001b[0m \u001b[0mself\u001b[0m\u001b[1;33m.\u001b[0m\u001b[0mauth\u001b[0m\u001b[1;33m)\u001b[0m\u001b[1;33m,\u001b[0m\u001b[1;33m\u001b[0m\u001b[0m\n\u001b[0;32m    436\u001b[0m             \u001b[0mcookies\u001b[0m\u001b[1;33m=\u001b[0m\u001b[0mmerged_cookies\u001b[0m\u001b[1;33m,\u001b[0m\u001b[1;33m\u001b[0m\u001b[0m\n\u001b[1;32m--> 437\u001b[1;33m             \u001b[0mhooks\u001b[0m\u001b[1;33m=\u001b[0m\u001b[0mmerge_hooks\u001b[0m\u001b[1;33m(\u001b[0m\u001b[0mrequest\u001b[0m\u001b[1;33m.\u001b[0m\u001b[0mhooks\u001b[0m\u001b[1;33m,\u001b[0m \u001b[0mself\u001b[0m\u001b[1;33m.\u001b[0m\u001b[0mhooks\u001b[0m\u001b[1;33m)\u001b[0m\u001b[1;33m,\u001b[0m\u001b[1;33m\u001b[0m\u001b[0m\n\u001b[0m\u001b[0;32m    438\u001b[0m         )\n\u001b[0;32m    439\u001b[0m         \u001b[1;32mreturn\u001b[0m \u001b[0mp\u001b[0m\u001b[1;33m\u001b[0m\u001b[0m\n",
      "\u001b[1;32mC:\\Users\\Xavier\\Anaconda2\\lib\\site-packages\\requests\\models.pyc\u001b[0m in \u001b[0;36mprepare\u001b[1;34m(self, method, url, headers, files, data, params, auth, cookies, hooks, json)\u001b[0m\n\u001b[0;32m    303\u001b[0m \u001b[1;33m\u001b[0m\u001b[0m\n\u001b[0;32m    304\u001b[0m         \u001b[0mself\u001b[0m\u001b[1;33m.\u001b[0m\u001b[0mprepare_method\u001b[0m\u001b[1;33m(\u001b[0m\u001b[0mmethod\u001b[0m\u001b[1;33m)\u001b[0m\u001b[1;33m\u001b[0m\u001b[0m\n\u001b[1;32m--> 305\u001b[1;33m         \u001b[0mself\u001b[0m\u001b[1;33m.\u001b[0m\u001b[0mprepare_url\u001b[0m\u001b[1;33m(\u001b[0m\u001b[0murl\u001b[0m\u001b[1;33m,\u001b[0m \u001b[0mparams\u001b[0m\u001b[1;33m)\u001b[0m\u001b[1;33m\u001b[0m\u001b[0m\n\u001b[0m\u001b[0;32m    306\u001b[0m         \u001b[0mself\u001b[0m\u001b[1;33m.\u001b[0m\u001b[0mprepare_headers\u001b[0m\u001b[1;33m(\u001b[0m\u001b[0mheaders\u001b[0m\u001b[1;33m)\u001b[0m\u001b[1;33m\u001b[0m\u001b[0m\n\u001b[0;32m    307\u001b[0m         \u001b[0mself\u001b[0m\u001b[1;33m.\u001b[0m\u001b[0mprepare_cookies\u001b[0m\u001b[1;33m(\u001b[0m\u001b[0mcookies\u001b[0m\u001b[1;33m)\u001b[0m\u001b[1;33m\u001b[0m\u001b[0m\n",
      "\u001b[1;32mC:\\Users\\Xavier\\Anaconda2\\lib\\site-packages\\requests\\models.pyc\u001b[0m in \u001b[0;36mprepare_url\u001b[1;34m(self, url, params)\u001b[0m\n\u001b[0;32m    377\u001b[0m             \u001b[0merror\u001b[0m \u001b[1;33m=\u001b[0m \u001b[0merror\u001b[0m\u001b[1;33m.\u001b[0m\u001b[0mformat\u001b[0m\u001b[1;33m(\u001b[0m\u001b[0mto_native_string\u001b[0m\u001b[1;33m(\u001b[0m\u001b[0murl\u001b[0m\u001b[1;33m,\u001b[0m \u001b[1;34m'utf8'\u001b[0m\u001b[1;33m)\u001b[0m\u001b[1;33m)\u001b[0m\u001b[1;33m\u001b[0m\u001b[0m\n\u001b[0;32m    378\u001b[0m \u001b[1;33m\u001b[0m\u001b[0m\n\u001b[1;32m--> 379\u001b[1;33m             \u001b[1;32mraise\u001b[0m \u001b[0mMissingSchema\u001b[0m\u001b[1;33m(\u001b[0m\u001b[0merror\u001b[0m\u001b[1;33m)\u001b[0m\u001b[1;33m\u001b[0m\u001b[0m\n\u001b[0m\u001b[0;32m    380\u001b[0m \u001b[1;33m\u001b[0m\u001b[0m\n\u001b[0;32m    381\u001b[0m         \u001b[1;32mif\u001b[0m \u001b[1;32mnot\u001b[0m \u001b[0mhost\u001b[0m\u001b[1;33m:\u001b[0m\u001b[1;33m\u001b[0m\u001b[0m\n",
      "\u001b[1;31mMissingSchema\u001b[0m: Invalid URL '': No schema supplied. Perhaps you meant http://?"
     ]
    }
   ],
   "source": [
    "response_5 = v5Client.service.track(\n",
    "    WebAuthenticationDetail = {\"UserCredential\": {'Key': \"xc7K0YOJE81jv4SC\", 'Password': \"idhhH2bvfRP6pouS9i7xKA61j\"}}\n",
    "    , ClientDetail = {'AccountNumber': \"165459512\", 'MeterNumber': \"108321767\"}\n",
    "    , Version = {\n",
    "            'ServiceId': 'trck',\n",
    "            'Major': '5', \n",
    "            'Intermediate': '0',\n",
    "            'Minor': '0'\n",
    "    },\n",
    "    PackageIdentifier = {\n",
    "                    'Type': 'TRACKING_NUMBER_OR_DOORTAG',\n",
    "                    'Value': 490817110347333}   \n",
    ")\n"
   ]
  },
  {
   "cell_type": "code",
   "execution_count": 33,
   "metadata": {},
   "outputs": [
    {
     "data": {
      "text/plain": [
       "<Element {http://schemas.xmlsoap.org/soap/envelope/}Envelope at 0x7e48f48>"
      ]
     },
     "execution_count": 33,
     "metadata": {},
     "output_type": "execute_result"
    }
   ],
   "source": [
    "node_v5 = v5Client.create_message(v5Client.service,'track',\n",
    "    WebAuthenticationDetail = {\"UserCredential\": {'Key': \"xc7K0YOJE81jv4SC\", 'Password': \"idhhH2bvfRP6pouS9i7xKA61j\"}}\n",
    "    , ClientDetail = {'AccountNumber': \"165459512\", 'MeterNumber': \"108321767\"}\n",
    "    , Version = {\n",
    "            'ServiceId': 'trck',\n",
    "            'Major': '5', \n",
    "            'Intermediate': '0',\n",
    "            'Minor': '0'\n",
    "    },\n",
    "    PackageIdentifier = {\n",
    "                    'Type': 'TRACKING_NUMBER_OR_DOORTAG',\n",
    "                    'Value': 490817110347333}   \n",
    ")\n",
    "node_v5"
   ]
  },
  {
   "cell_type": "code",
   "execution_count": 34,
   "metadata": {},
   "outputs": [],
   "source": [
    "tree = ET.ElementTree(node_v5)\n",
    "tree.write('fedex_request_v5.xml')"
   ]
  }
 ],
 "metadata": {
  "kernelspec": {
   "display_name": "Python 2",
   "language": "python",
   "name": "python2"
  },
  "language_info": {
   "codemirror_mode": {
    "name": "ipython",
    "version": 2
   },
   "file_extension": ".py",
   "mimetype": "text/x-python",
   "name": "python",
   "nbconvert_exporter": "python",
   "pygments_lexer": "ipython2",
   "version": "2.7.14"
  }
 },
 "nbformat": 4,
 "nbformat_minor": 2
}
