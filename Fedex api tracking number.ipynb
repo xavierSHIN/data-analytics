{
 "cells": [
  {
   "cell_type": "markdown",
   "metadata": {
    "heading_collapsed": true
   },
   "source": [
    "### 1. Paul's Example code and Our credentials working well between Magento and FedEx"
   ]
  },
  {
   "cell_type": "code",
   "execution_count": null,
   "metadata": {
    "hidden": true
   },
   "outputs": [],
   "source": [
    "# client object for the magento api\n",
    "magClient = zeep.Client(URL_HERE)\n",
    "\n",
    "# authenticate session -- this is specific to the magento api, fedex may have a different authentication scheme\n",
    "magSession = magClient.service.login(USERNAME_HERE, KEY_HERE)\n",
    "\n",
    "# call api named 'salesOrderShipmentCreateAndAddTrack' with required parameters\n",
    "magShipment = magClient.service.salesOrderShipmentCreateAndAddTrack(\n",
    "                sessionId = magSession\n",
    "                , orderIncrementId = magOrderId\n",
    "                , itemsQty = orderItems\n",
    "                , carrier = carrierCode\n",
    "                , trackNumber = trackingNumber\n",
    "                , title = shipMethod\n",
    "                , comment = \"\"\n",
    "                , email = sendEmail\n",
    "                , includeComment = 0\n",
    "        )"
   ]
  },
  {
   "cell_type": "code",
   "execution_count": null,
   "metadata": {
    "hidden": true
   },
   "outputs": [],
   "source": [
    "tracking numbers are available in reporting.mag_shipment_items\n",
    "\n",
    "our creds are:\n",
    "\n",
    "\"key\": \"xc7K0YOJE81jv4SC\"\n",
    "\"password\": \"idhhH2bvfRP6pouS9i7xKA61j\"\n",
    "\"account\": \"165459512\"\n",
    "\"meter_number\": \"108321767\"\n",
    "\n",
    "zeep is a nice python library for soap requests\n",
    "RCurl in R should work too but would require more xml wrangling"
   ]
  },
  {
   "cell_type": "markdown",
   "metadata": {
    "heading_collapsed": true
   },
   "source": [
    "### 2. Xu's Test work with test keys under version 16"
   ]
  },
  {
   "cell_type": "code",
   "execution_count": null,
   "metadata": {
    "hidden": true
   },
   "outputs": [],
   "source": [
    "Required for All Web Services\n",
    "my test credentials\n",
    "\n",
    "Developer Test Key: vzgghetVY9WGLLm6\n",
    "    pwd: ECymX9DXJb1CjASe7Z1glZxef \n",
    "\n",
    "Test Account Number:510087720\n",
    "Test Meter Number: 119092699\n"
   ]
  },
  {
   "cell_type": "code",
   "execution_count": 35,
   "metadata": {
    "hidden": true
   },
   "outputs": [],
   "source": [
    "testClient=zeep.Client('C:\\\\Users\\\\Xavier\\\\Downloads\\\\TrackService\\\\TrackService_v16.wsdl')\n",
    "response_test = testClient.service.track(\n",
    "    WebAuthenticationDetail = {\"UserCredential\": \n",
    "                               {'Key': 'vzgghetVY9WGLLm6', \n",
    "                                'Password': 'ECymX9DXJb1CjASe7Z1glZxef'}},\n",
    "    ClientDetail = {'AccountNumber': '510087720', \n",
    "                    'MeterNumber': '119092699'},\n",
    "    TransactionDetail = {\n",
    "                'CustomerTransactionId': 'Track By Number_v16',\n",
    "                'Localization': {\n",
    "                    'LanguageCode': 'EN',\n",
    "                    'LocaleCode': 'US'\n",
    "                }},\n",
    "    Version = {\n",
    "            'ServiceId': 'trck',\n",
    "            'Major': '16', \n",
    "            'Intermediate': '0',\n",
    "            'Minor': '0'\n",
    "    },\n",
    "     SelectionDetails= {\n",
    "                'CarrierCode': 'FDXG',\n",
    "                'PackageIdentifier': {\n",
    "                    'Type': 'TRACKING_NUMBER_OR_DOORTAG',\n",
    "                    'Value': 490817110347333 \n",
    "                }\n",
    "    }\n",
    "    \n",
    ")"
   ]
  },
  {
   "cell_type": "code",
   "execution_count": 37,
   "metadata": {
    "hidden": true
   },
   "outputs": [],
   "source": [
    "node_test=testClient.create_message(testClient.service, 'track',\n",
    "    WebAuthenticationDetail = {\"UserCredential\": \n",
    "                               {'Key': 'vzgghetVY9WGLLm6', \n",
    "                                'Password': 'ECymX9DXJb1CjASe7Z1glZxef'}},\n",
    "    ClientDetail = {'AccountNumber': '510087720', \n",
    "                    'MeterNumber': '119092699'},\n",
    "    TransactionDetail = {\n",
    "                'CustomerTransactionId': 'Track By Number_v16',\n",
    "                'Localization': {\n",
    "                    'LanguageCode': 'EN',\n",
    "                    'LocaleCode': 'US'\n",
    "                }},\n",
    "    Version = {\n",
    "            'ServiceId': 'trck',\n",
    "            'Major': '16', \n",
    "            'Intermediate': '0',\n",
    "            'Minor': '0'\n",
    "    },\n",
    "     SelectionDetails= {\n",
    "                'CarrierCode': 'FDXG',\n",
    "                'PackageIdentifier': {\n",
    "                    'Type': 'TRACKING_NUMBER_OR_DOORTAG',\n",
    "                    'Value': 490817110347333 \n",
    "                }\n",
    "    }\n",
    "    \n",
    ")\n",
    "tree = ET.ElementTree(node_test)\n",
    "tree.write('fedex_request_test.xml')"
   ]
  },
  {
   "cell_type": "markdown",
   "metadata": {},
   "source": [
    "### 3. Code for FedEx API service 'track' under version 16 and version 5 "
   ]
  },
  {
   "cell_type": "markdown",
   "metadata": {},
   "source": [
    "#### 3.1 Version 16 with create service proxy"
   ]
  },
  {
   "cell_type": "markdown",
   "metadata": {},
   "source": [
    "Web Services - Soap/XML URL's \n",
    "\n",
    "Test - https://wsbeta.fedex.com:443/web-services\n",
    "Production - https://ws.fedex.com:443/web-services\n",
    "\n",
    "Web Services - Non Soap/XML URL's \n",
    "\n",
    "Test - https://wsbeta.fedex.com:443/xml\n",
    "Production - https://ws.fedex.com:443/xml"
   ]
  },
  {
   "cell_type": "code",
   "execution_count": 1,
   "metadata": {},
   "outputs": [],
   "source": [
    "import zeep\n",
    "import lxml\n",
    "import xml.etree.ElementTree as ET"
   ]
  },
  {
   "cell_type": "code",
   "execution_count": 81,
   "metadata": {},
   "outputs": [],
   "source": [
    "v16Client=zeep.Client('C:\\\\Users\\\\Xavier\\\\Downloads\\\\TrackService\\\\TrackService_v16.wsdl')"
   ]
  },
  {
   "cell_type": "code",
   "execution_count": 82,
   "metadata": {},
   "outputs": [],
   "source": [
    "v16service = v16Client.create_service(\n",
    "    '{http://fedex.com/ws/track/v16}TrackServiceSoapBinding',\n",
    "    'https://ws.fedex.com:443/web-services/track')\n",
    "#create_service('{zeep will tell u if your settings not correct}BindingName','gateway_URL')"
   ]
  },
  {
   "cell_type": "code",
   "execution_count": 83,
   "metadata": {},
   "outputs": [
    {
     "data": {
      "text/plain": [
       "{\n",
       "    'HighestSeverity': 'SUCCESS',\n",
       "    'Notifications': [\n",
       "        {\n",
       "            'Severity': 'SUCCESS',\n",
       "            'Source': 'trck',\n",
       "            'Code': '0',\n",
       "            'Message': 'Request was successfully processed.',\n",
       "            'LocalizedMessage': 'Request was successfully processed.',\n",
       "            'MessageParameters': []\n",
       "        }\n",
       "    ],\n",
       "    'TransactionDetail': {\n",
       "        'CustomerTransactionId': 'Track By Number_v16',\n",
       "        'Localization': {\n",
       "            'LanguageCode': 'EN',\n",
       "            'LocaleCode': 'US'\n",
       "        }\n",
       "    },\n",
       "    'Version': {\n",
       "        'ServiceId': 'trck',\n",
       "        'Major': 16L,\n",
       "        'Intermediate': 0L,\n",
       "        'Minor': 0L\n",
       "    },\n",
       "    'CompletedTrackDetails': [\n",
       "        {\n",
       "            'HighestSeverity': 'SUCCESS',\n",
       "            'Notifications': [\n",
       "                {\n",
       "                    'Severity': 'SUCCESS',\n",
       "                    'Source': 'trck',\n",
       "                    'Code': '0',\n",
       "                    'Message': 'Request was successfully processed.',\n",
       "                    'LocalizedMessage': 'Request was successfully processed.',\n",
       "                    'MessageParameters': []\n",
       "                }\n",
       "            ],\n",
       "            'DuplicateWaybill': False,\n",
       "            'MoreData': False,\n",
       "            'PagingToken': None,\n",
       "            'TrackDetailsCount': 0,\n",
       "            'TrackDetails': [\n",
       "                {\n",
       "                    'Notification': {\n",
       "                        'Severity': 'SUCCESS',\n",
       "                        'Source': 'trck',\n",
       "                        'Code': '0',\n",
       "                        'Message': 'Request was successfully processed.',\n",
       "                        'LocalizedMessage': 'Request was successfully processed.',\n",
       "                        'MessageParameters': []\n",
       "                    },\n",
       "                    'TrackingNumber': '490817110347333',\n",
       "                    'Barcode': None,\n",
       "                    'TrackingNumberUniqueIdentifier': '12017~490817110347333~FDEG',\n",
       "                    'StatusDetail': {\n",
       "                        'CreationTime': datetime.datetime(2017, 12, 30, 0, 0),\n",
       "                        'Code': 'DL',\n",
       "                        'Description': 'Delivered',\n",
       "                        'Location': {\n",
       "                            'StreetLines': [],\n",
       "                            'City': 'Bronx',\n",
       "                            'StateOrProvinceCode': 'NY',\n",
       "                            'PostalCode': None,\n",
       "                            'UrbanizationCode': None,\n",
       "                            'CountryCode': 'US',\n",
       "                            'CountryName': 'United States',\n",
       "                            'Residential': False,\n",
       "                            'GeographicCoordinates': None\n",
       "                        },\n",
       "                        'AncillaryDetails': []\n",
       "                    },\n",
       "                    'InformationNotes': [],\n",
       "                    'CustomerExceptionRequests': [],\n",
       "                    'Reconciliation': None,\n",
       "                    'ServiceCommitMessage': None,\n",
       "                    'DestinationServiceArea': None,\n",
       "                    'DestinationServiceAreaDescription': None,\n",
       "                    'CarrierCode': 'FDXG',\n",
       "                    'OperatingCompany': None,\n",
       "                    'OperatingCompanyOrCarrierDescription': 'FedEx Ground',\n",
       "                    'CartageAgentCompanyName': None,\n",
       "                    'ProductionLocationContactAndAddress': None,\n",
       "                    'OtherIdentifiers': [\n",
       "                        {\n",
       "                            'PackageIdentifier': {\n",
       "                                'Type': 'CUSTOMER_REFERENCE',\n",
       "                                'Value': 'PICCAP159820'\n",
       "                            },\n",
       "                            'TrackingNumberUniqueIdentifier': None,\n",
       "                            'CarrierCode': None\n",
       "                        },\n",
       "                        {\n",
       "                            'PackageIdentifier': {\n",
       "                                'Type': 'INVOICE',\n",
       "                                'Value': '72322589'\n",
       "                            },\n",
       "                            'TrackingNumberUniqueIdentifier': None,\n",
       "                            'CarrierCode': None\n",
       "                        },\n",
       "                        {\n",
       "                            'PackageIdentifier': {\n",
       "                                'Type': 'PURCHASE_ORDER',\n",
       "                                'Value': 'ZJ14826670'\n",
       "                            },\n",
       "                            'TrackingNumberUniqueIdentifier': None,\n",
       "                            'CarrierCode': None\n",
       "                        }\n",
       "                    ],\n",
       "                    'FormId': None,\n",
       "                    'Service': {\n",
       "                        'Type': 'GROUND_HOME_DELIVERY',\n",
       "                        'Description': 'FedEx Home Delivery',\n",
       "                        'ShortDescription': 'HD'\n",
       "                    },\n",
       "                    'PackageWeight': {\n",
       "                        'Units': 'LB',\n",
       "                        'Value': Decimal('3.5')\n",
       "                    },\n",
       "                    'PackageDimensions': {\n",
       "                        'Length': 16,\n",
       "                        'Width': 13,\n",
       "                        'Height': 12,\n",
       "                        'Units': 'IN'\n",
       "                    },\n",
       "                    'PackageDimensionalWeight': None,\n",
       "                    'ShipmentWeight': None,\n",
       "                    'Packaging': 'Package',\n",
       "                    'PackagingType': 'YOUR_PACKAGING',\n",
       "                    'PhysicalPackagingType': 'PACKAGE',\n",
       "                    'PackageSequenceNumber': 1,\n",
       "                    'PackageCount': 1,\n",
       "                    'CreatorSoftwareId': None,\n",
       "                    'Charges': [],\n",
       "                    'NickName': None,\n",
       "                    'Notes': None,\n",
       "                    'Attributes': [],\n",
       "                    'ShipmentContents': [],\n",
       "                    'PackageContents': [],\n",
       "                    'ClearanceLocationCode': None,\n",
       "                    'Commodities': [],\n",
       "                    'ReturnDetail': None,\n",
       "                    'CustomsOptionDetails': [],\n",
       "                    'AdvanceNotificationDetail': None,\n",
       "                    'SpecialHandlings': [],\n",
       "                    'Payments': [\n",
       "                        {\n",
       "                            'Classification': 'TRANSPORTATION',\n",
       "                            'Type': 'SHIPPER_ACCOUNT',\n",
       "                            'Description': 'Shipper'\n",
       "                        }\n",
       "                    ],\n",
       "                    'Shipper': None,\n",
       "                    'PossessionStatus': None,\n",
       "                    'ShipperAddress': {\n",
       "                        'StreetLines': [],\n",
       "                        'City': 'New York',\n",
       "                        'StateOrProvinceCode': 'NY',\n",
       "                        'PostalCode': None,\n",
       "                        'UrbanizationCode': None,\n",
       "                        'CountryCode': 'US',\n",
       "                        'CountryName': 'United States',\n",
       "                        'Residential': False,\n",
       "                        'GeographicCoordinates': None\n",
       "                    },\n",
       "                    'OriginLocationAddress': {\n",
       "                        'StreetLines': [],\n",
       "                        'City': 'DAYTON',\n",
       "                        'StateOrProvinceCode': 'NJ',\n",
       "                        'PostalCode': None,\n",
       "                        'UrbanizationCode': None,\n",
       "                        'CountryCode': 'US',\n",
       "                        'CountryName': 'United States',\n",
       "                        'Residential': False,\n",
       "                        'GeographicCoordinates': None\n",
       "                    },\n",
       "                    'OriginStationId': None,\n",
       "                    'DatesOrTimes': [\n",
       "                        {\n",
       "                            'Type': 'ACTUAL_DELIVERY',\n",
       "                            'DateOrTimestamp': '2017-12-30T13:58:36-05:00'\n",
       "                        },\n",
       "                        {\n",
       "                            'Type': 'ACTUAL_PICKUP',\n",
       "                            'DateOrTimestamp': '2017-12-29T00:00:00'\n",
       "                        },\n",
       "                        {\n",
       "                            'Type': 'SHIP',\n",
       "                            'DateOrTimestamp': '2017-12-29T00:00:00'\n",
       "                        },\n",
       "                        {\n",
       "                            'Type': 'ACTUAL_TENDER',\n",
       "                            'DateOrTimestamp': '2017-12-29T00:00:00'\n",
       "                        },\n",
       "                        {\n",
       "                            'Type': 'ANTICIPATED_TENDER',\n",
       "                            'DateOrTimestamp': '2017-12-29T00:00:00'\n",
       "                        }\n",
       "                    ],\n",
       "                    'TotalTransitDistance': None,\n",
       "                    'DistanceToDestination': None,\n",
       "                    'SpecialInstructions': [],\n",
       "                    'Recipient': None,\n",
       "                    'LastUpdatedDestinationAddress': {\n",
       "                        'StreetLines': [],\n",
       "                        'City': 'Bronx',\n",
       "                        'StateOrProvinceCode': 'NY',\n",
       "                        'PostalCode': None,\n",
       "                        'UrbanizationCode': None,\n",
       "                        'CountryCode': 'US',\n",
       "                        'CountryName': 'United States',\n",
       "                        'Residential': False,\n",
       "                        'GeographicCoordinates': None\n",
       "                    },\n",
       "                    'DestinationAddress': {\n",
       "                        'StreetLines': [],\n",
       "                        'City': 'Bronx',\n",
       "                        'StateOrProvinceCode': 'NY',\n",
       "                        'PostalCode': None,\n",
       "                        'UrbanizationCode': None,\n",
       "                        'CountryCode': 'US',\n",
       "                        'CountryName': 'United States',\n",
       "                        'Residential': False,\n",
       "                        'GeographicCoordinates': None\n",
       "                    },\n",
       "                    'HoldAtLocationContact': None,\n",
       "                    'HoldAtLocationAddress': None,\n",
       "                    'DestinationStationId': None,\n",
       "                    'DestinationLocationAddress': None,\n",
       "                    'DestinationLocationType': None,\n",
       "                    'DestinationLocationTimeZoneOffset': None,\n",
       "                    'ActualDeliveryAddress': {\n",
       "                        'StreetLines': [],\n",
       "                        'City': 'Bronx',\n",
       "                        'StateOrProvinceCode': 'NY',\n",
       "                        'PostalCode': None,\n",
       "                        'UrbanizationCode': None,\n",
       "                        'CountryCode': 'US',\n",
       "                        'CountryName': 'United States',\n",
       "                        'Residential': False,\n",
       "                        'GeographicCoordinates': None\n",
       "                    },\n",
       "                    'OfficeOrderDeliveryMethod': None,\n",
       "                    'DeliveryLocationType': None,\n",
       "                    'DeliveryLocationDescription': None,\n",
       "                    'DeliveryAttempts': 0,\n",
       "                    'DeliverySignatureName': 'ACONTE',\n",
       "                    'PieceCountVerificationDetails': [],\n",
       "                    'TotalUniqueAddressCountInConsolidation': 0,\n",
       "                    'AvailableImages': [\n",
       "                        {\n",
       "                            'Type': 'SIGNATURE_PROOF_OF_DELIVERY',\n",
       "                            'Size': None\n",
       "                        }\n",
       "                    ],\n",
       "                    'Signature': None,\n",
       "                    'NotificationEventsAvailable': [],\n",
       "                    'SplitShipmentParts': [],\n",
       "                    'DeliveryOptionEligibilityDetails': [\n",
       "                        {\n",
       "                            'Option': 'INDIRECT_SIGNATURE_RELEASE',\n",
       "                            'Eligibility': 'INELIGIBLE'\n",
       "                        },\n",
       "                        {\n",
       "                            'Option': 'REDIRECT_TO_HOLD_AT_LOCATION',\n",
       "                            'Eligibility': 'INELIGIBLE'\n",
       "                        },\n",
       "                        {\n",
       "                            'Option': 'REROUTE',\n",
       "                            'Eligibility': 'INELIGIBLE'\n",
       "                        },\n",
       "                        {\n",
       "                            'Option': 'RESCHEDULE',\n",
       "                            'Eligibility': 'INELIGIBLE'\n",
       "                        }\n",
       "                    ],\n",
       "                    'Events': [\n",
       "                        {\n",
       "                            'Timestamp': datetime.datetime(2017, 12, 30, 13, 58, 36, tzinfo=<FixedOffset '-05:00'>),\n",
       "                            'EventType': 'DL',\n",
       "                            'EventDescription': 'Delivered',\n",
       "                            'StatusExceptionCode': None,\n",
       "                            'StatusExceptionDescription': None,\n",
       "                            'Address': {\n",
       "                                'StreetLines': [],\n",
       "                                'City': 'Bronx',\n",
       "                                'StateOrProvinceCode': 'NY',\n",
       "                                'PostalCode': '10462',\n",
       "                                'UrbanizationCode': None,\n",
       "                                'CountryCode': 'US',\n",
       "                                'CountryName': 'United States',\n",
       "                                'Residential': False,\n",
       "                                'GeographicCoordinates': None\n",
       "                            },\n",
       "                            'StationId': None,\n",
       "                            'ArrivalLocation': 'DELIVERY_LOCATION'\n",
       "                        }\n",
       "                    ]\n",
       "                }\n",
       "            ]\n",
       "        }\n",
       "    ]\n",
       "}"
      ]
     },
     "execution_count": 83,
     "metadata": {},
     "output_type": "execute_result"
    }
   ],
   "source": [
    "new_response= v16service.track(WebAuthenticationDetail = {\"UserCredential\": \n",
    "                               {'Key': 'xc7K0YOJE81jv4SC', \n",
    "                                'Password': 'idhhH2bvfRP6pouS9i7xKA61j'}},\n",
    "    ClientDetail = {'AccountNumber': '165459512', \n",
    "                    'MeterNumber': '108321767'},\n",
    "    TransactionDetail = {\n",
    "                'CustomerTransactionId': 'Track By Number_v16',\n",
    "                'Localization': {\n",
    "                    'LanguageCode': 'EN',\n",
    "                    'LocaleCode': 'US'\n",
    "                }},\n",
    "    Version = {\n",
    "            'ServiceId': 'trck',\n",
    "            'Major': '16', \n",
    "            'Intermediate': '0',\n",
    "            'Minor': '0'\n",
    "    },\n",
    "     SelectionDetails= {\n",
    "                'CarrierCode': 'FDXG',\n",
    "                'PackageIdentifier': {\n",
    "                    'Type': 'TRACKING_NUMBER_OR_DOORTAG',\n",
    "                    'Value': 490817110347333 \n",
    "                }\n",
    "    }\n",
    "    \n",
    ")\n",
    "new_response"
   ]
  },
  {
   "cell_type": "code",
   "execution_count": 76,
   "metadata": {},
   "outputs": [
    {
     "data": {
      "text/plain": [
       "<Element {http://schemas.xmlsoap.org/soap/envelope/}Envelope at 0xbb276c8>"
      ]
     },
     "execution_count": 76,
     "metadata": {},
     "output_type": "execute_result"
    }
   ],
   "source": [
    "#trying to create raw XML\n",
    "node_v16 = v16Client.create_message(v16Client.service, 'track',\n",
    "    WebAuthenticationDetail = {\"UserCredential\": {'Key': 'xc7K0YOJE81jv4SC', 'Password': 'idhhH2bvfRP6pouS9i7xKA61j'}},\n",
    "    ClientDetail = {'AccountNumber': '165459512', 'MeterNumber': '108321767'},\n",
    "    TransactionDetail = {\n",
    "                'CustomerTransactionId': 'Track By Number_v16',\n",
    "                'Localization': {\n",
    "                    'LanguageCode': 'EN',\n",
    "                    'LocaleCode': 'US'\n",
    "                }},\n",
    "    Version = {\n",
    "            'ServiceId': 'trck',\n",
    "            'Major': '16', \n",
    "            'Intermediate': '0',\n",
    "            'Minor': '0'\n",
    "    },\n",
    "     SelectionDetails= {\n",
    "                'CarrierCode': 'FDXG',\n",
    "                'PackageIdentifier': {\n",
    "                    'Type': 'TRACKING_NUMBER_OR_DOORTAG',\n",
    "                    'Value': 490817110347333 \n",
    "                }\n",
    "    }\n",
    "    \n",
    ")\n",
    "node_v16"
   ]
  },
  {
   "cell_type": "code",
   "execution_count": 77,
   "metadata": {},
   "outputs": [],
   "source": [
    "tree = ET.ElementTree(node_v16)\n",
    "tree.write('C:\\\\Users\\\\Xavier\\\\Downloads\\\\TrackService\\\\fedex_request_v16.xml')"
   ]
  },
  {
   "cell_type": "code",
   "execution_count": null,
   "metadata": {},
   "outputs": [],
   "source": []
  },
  {
   "cell_type": "markdown",
   "metadata": {
    "heading_collapsed": true
   },
   "source": [
    "#### 3.2 Version 5 with less arguments"
   ]
  },
  {
   "cell_type": "code",
   "execution_count": 84,
   "metadata": {
    "hidden": true
   },
   "outputs": [],
   "source": [
    "v5Client=zeep.Client('C:\\\\Users\\\\Xavier\\\\Downloads\\\\TrackService\\\\TrackService_v5.wsdl')"
   ]
  },
  {
   "cell_type": "code",
   "execution_count": 86,
   "metadata": {
    "hidden": true
   },
   "outputs": [],
   "source": [
    "v5Service=v5Client.create_service(\n",
    "    '{http://fedex.com/ws/track/v5}TrackServiceSoapBinding',\n",
    "    'https://ws.fedex.com:443/web-services/track')"
   ]
  },
  {
   "cell_type": "code",
   "execution_count": 80,
   "metadata": {
    "hidden": true
   },
   "outputs": [
    {
     "ename": "ConnectionError",
     "evalue": "HTTPSConnectionPool(host='ws.fedex.com', port=443): Max retries exceeded with url: /web-services/track (Caused by NewConnectionError('<urllib3.connection.VerifiedHTTPSConnection object at 0x000000000BE6F358>: Failed to establish a new connection: [Errno 11002] getaddrinfo failed',))",
     "output_type": "error",
     "traceback": [
      "\u001b[1;31m---------------------------------------------------------------------------\u001b[0m",
      "\u001b[1;31mConnectionError\u001b[0m                           Traceback (most recent call last)",
      "\u001b[1;32m<ipython-input-80-a17e8dc7d67a>\u001b[0m in \u001b[0;36m<module>\u001b[1;34m()\u001b[0m\n\u001b[0;32m     10\u001b[0m     PackageIdentifier = {\n\u001b[0;32m     11\u001b[0m                     \u001b[1;34m'Type'\u001b[0m\u001b[1;33m:\u001b[0m \u001b[1;34m'TRACKING_NUMBER_OR_DOORTAG'\u001b[0m\u001b[1;33m,\u001b[0m\u001b[1;33m\u001b[0m\u001b[0m\n\u001b[1;32m---> 12\u001b[1;33m                     'Value': 490817110347333}   \n\u001b[0m\u001b[0;32m     13\u001b[0m )\n\u001b[0;32m     14\u001b[0m \u001b[0mresponse_5\u001b[0m\u001b[1;33m\u001b[0m\u001b[0m\n",
      "\u001b[1;32mC:\\Users\\Xavier\\Anaconda2\\lib\\site-packages\\zeep\\proxy.pyc\u001b[0m in \u001b[0;36m__call__\u001b[1;34m(self, *args, **kwargs)\u001b[0m\n\u001b[0;32m     40\u001b[0m         return self._proxy._binding.send(\n\u001b[0;32m     41\u001b[0m             \u001b[0mself\u001b[0m\u001b[1;33m.\u001b[0m\u001b[0m_proxy\u001b[0m\u001b[1;33m.\u001b[0m\u001b[0m_client\u001b[0m\u001b[1;33m,\u001b[0m \u001b[0mself\u001b[0m\u001b[1;33m.\u001b[0m\u001b[0m_proxy\u001b[0m\u001b[1;33m.\u001b[0m\u001b[0m_binding_options\u001b[0m\u001b[1;33m,\u001b[0m\u001b[1;33m\u001b[0m\u001b[0m\n\u001b[1;32m---> 42\u001b[1;33m             self._op_name, args, kwargs)\n\u001b[0m\u001b[0;32m     43\u001b[0m \u001b[1;33m\u001b[0m\u001b[0m\n\u001b[0;32m     44\u001b[0m \u001b[1;33m\u001b[0m\u001b[0m\n",
      "\u001b[1;32mC:\\Users\\Xavier\\Anaconda2\\lib\\site-packages\\zeep\\wsdl\\bindings\\soap.pyc\u001b[0m in \u001b[0;36msend\u001b[1;34m(self, client, options, operation, args, kwargs)\u001b[0m\n\u001b[0;32m    122\u001b[0m \u001b[1;33m\u001b[0m\u001b[0m\n\u001b[0;32m    123\u001b[0m         response = client.transport.post_xml(\n\u001b[1;32m--> 124\u001b[1;33m             options['address'], envelope, http_headers)\n\u001b[0m\u001b[0;32m    125\u001b[0m \u001b[1;33m\u001b[0m\u001b[0m\n\u001b[0;32m    126\u001b[0m         \u001b[0moperation_obj\u001b[0m \u001b[1;33m=\u001b[0m \u001b[0mself\u001b[0m\u001b[1;33m.\u001b[0m\u001b[0mget\u001b[0m\u001b[1;33m(\u001b[0m\u001b[0moperation\u001b[0m\u001b[1;33m)\u001b[0m\u001b[1;33m\u001b[0m\u001b[0m\n",
      "\u001b[1;32mC:\\Users\\Xavier\\Anaconda2\\lib\\site-packages\\zeep\\transports.pyc\u001b[0m in \u001b[0;36mpost_xml\u001b[1;34m(self, address, envelope, headers)\u001b[0m\n\u001b[0;32m     93\u001b[0m         \"\"\"\n\u001b[0;32m     94\u001b[0m         \u001b[0mmessage\u001b[0m \u001b[1;33m=\u001b[0m \u001b[0metree_to_string\u001b[0m\u001b[1;33m(\u001b[0m\u001b[0menvelope\u001b[0m\u001b[1;33m)\u001b[0m\u001b[1;33m\u001b[0m\u001b[0m\n\u001b[1;32m---> 95\u001b[1;33m         \u001b[1;32mreturn\u001b[0m \u001b[0mself\u001b[0m\u001b[1;33m.\u001b[0m\u001b[0mpost\u001b[0m\u001b[1;33m(\u001b[0m\u001b[0maddress\u001b[0m\u001b[1;33m,\u001b[0m \u001b[0mmessage\u001b[0m\u001b[1;33m,\u001b[0m \u001b[0mheaders\u001b[0m\u001b[1;33m)\u001b[0m\u001b[1;33m\u001b[0m\u001b[0m\n\u001b[0m\u001b[0;32m     96\u001b[0m \u001b[1;33m\u001b[0m\u001b[0m\n\u001b[0;32m     97\u001b[0m     \u001b[1;32mdef\u001b[0m \u001b[0mload\u001b[0m\u001b[1;33m(\u001b[0m\u001b[0mself\u001b[0m\u001b[1;33m,\u001b[0m \u001b[0murl\u001b[0m\u001b[1;33m)\u001b[0m\u001b[1;33m:\u001b[0m\u001b[1;33m\u001b[0m\u001b[0m\n",
      "\u001b[1;32mC:\\Users\\Xavier\\Anaconda2\\lib\\site-packages\\zeep\\transports.pyc\u001b[0m in \u001b[0;36mpost\u001b[1;34m(self, address, message, headers)\u001b[0m\n\u001b[0;32m     65\u001b[0m             \u001b[0mdata\u001b[0m\u001b[1;33m=\u001b[0m\u001b[0mmessage\u001b[0m\u001b[1;33m,\u001b[0m\u001b[1;33m\u001b[0m\u001b[0m\n\u001b[0;32m     66\u001b[0m             \u001b[0mheaders\u001b[0m\u001b[1;33m=\u001b[0m\u001b[0mheaders\u001b[0m\u001b[1;33m,\u001b[0m\u001b[1;33m\u001b[0m\u001b[0m\n\u001b[1;32m---> 67\u001b[1;33m             timeout=self.operation_timeout)\n\u001b[0m\u001b[0;32m     68\u001b[0m \u001b[1;33m\u001b[0m\u001b[0m\n\u001b[0;32m     69\u001b[0m         \u001b[1;32mif\u001b[0m \u001b[0mself\u001b[0m\u001b[1;33m.\u001b[0m\u001b[0mlogger\u001b[0m\u001b[1;33m.\u001b[0m\u001b[0misEnabledFor\u001b[0m\u001b[1;33m(\u001b[0m\u001b[0mlogging\u001b[0m\u001b[1;33m.\u001b[0m\u001b[0mDEBUG\u001b[0m\u001b[1;33m)\u001b[0m\u001b[1;33m:\u001b[0m\u001b[1;33m\u001b[0m\u001b[0m\n",
      "\u001b[1;32mC:\\Users\\Xavier\\Anaconda2\\lib\\site-packages\\requests\\sessions.pyc\u001b[0m in \u001b[0;36mpost\u001b[1;34m(self, url, data, json, **kwargs)\u001b[0m\n\u001b[0;32m    553\u001b[0m         \"\"\"\n\u001b[0;32m    554\u001b[0m \u001b[1;33m\u001b[0m\u001b[0m\n\u001b[1;32m--> 555\u001b[1;33m         \u001b[1;32mreturn\u001b[0m \u001b[0mself\u001b[0m\u001b[1;33m.\u001b[0m\u001b[0mrequest\u001b[0m\u001b[1;33m(\u001b[0m\u001b[1;34m'POST'\u001b[0m\u001b[1;33m,\u001b[0m \u001b[0murl\u001b[0m\u001b[1;33m,\u001b[0m \u001b[0mdata\u001b[0m\u001b[1;33m=\u001b[0m\u001b[0mdata\u001b[0m\u001b[1;33m,\u001b[0m \u001b[0mjson\u001b[0m\u001b[1;33m=\u001b[0m\u001b[0mjson\u001b[0m\u001b[1;33m,\u001b[0m \u001b[1;33m**\u001b[0m\u001b[0mkwargs\u001b[0m\u001b[1;33m)\u001b[0m\u001b[1;33m\u001b[0m\u001b[0m\n\u001b[0m\u001b[0;32m    556\u001b[0m \u001b[1;33m\u001b[0m\u001b[0m\n\u001b[0;32m    557\u001b[0m     \u001b[1;32mdef\u001b[0m \u001b[0mput\u001b[0m\u001b[1;33m(\u001b[0m\u001b[0mself\u001b[0m\u001b[1;33m,\u001b[0m \u001b[0murl\u001b[0m\u001b[1;33m,\u001b[0m \u001b[0mdata\u001b[0m\u001b[1;33m=\u001b[0m\u001b[0mNone\u001b[0m\u001b[1;33m,\u001b[0m \u001b[1;33m**\u001b[0m\u001b[0mkwargs\u001b[0m\u001b[1;33m)\u001b[0m\u001b[1;33m:\u001b[0m\u001b[1;33m\u001b[0m\u001b[0m\n",
      "\u001b[1;32mC:\\Users\\Xavier\\Anaconda2\\lib\\site-packages\\requests\\sessions.pyc\u001b[0m in \u001b[0;36mrequest\u001b[1;34m(self, method, url, params, data, headers, cookies, files, auth, timeout, allow_redirects, proxies, hooks, stream, verify, cert, json)\u001b[0m\n\u001b[0;32m    506\u001b[0m         }\n\u001b[0;32m    507\u001b[0m         \u001b[0msend_kwargs\u001b[0m\u001b[1;33m.\u001b[0m\u001b[0mupdate\u001b[0m\u001b[1;33m(\u001b[0m\u001b[0msettings\u001b[0m\u001b[1;33m)\u001b[0m\u001b[1;33m\u001b[0m\u001b[0m\n\u001b[1;32m--> 508\u001b[1;33m         \u001b[0mresp\u001b[0m \u001b[1;33m=\u001b[0m \u001b[0mself\u001b[0m\u001b[1;33m.\u001b[0m\u001b[0msend\u001b[0m\u001b[1;33m(\u001b[0m\u001b[0mprep\u001b[0m\u001b[1;33m,\u001b[0m \u001b[1;33m**\u001b[0m\u001b[0msend_kwargs\u001b[0m\u001b[1;33m)\u001b[0m\u001b[1;33m\u001b[0m\u001b[0m\n\u001b[0m\u001b[0;32m    509\u001b[0m \u001b[1;33m\u001b[0m\u001b[0m\n\u001b[0;32m    510\u001b[0m         \u001b[1;32mreturn\u001b[0m \u001b[0mresp\u001b[0m\u001b[1;33m\u001b[0m\u001b[0m\n",
      "\u001b[1;32mC:\\Users\\Xavier\\Anaconda2\\lib\\site-packages\\requests\\sessions.pyc\u001b[0m in \u001b[0;36msend\u001b[1;34m(self, request, **kwargs)\u001b[0m\n\u001b[0;32m    616\u001b[0m \u001b[1;33m\u001b[0m\u001b[0m\n\u001b[0;32m    617\u001b[0m         \u001b[1;31m# Send the request\u001b[0m\u001b[1;33m\u001b[0m\u001b[1;33m\u001b[0m\u001b[0m\n\u001b[1;32m--> 618\u001b[1;33m         \u001b[0mr\u001b[0m \u001b[1;33m=\u001b[0m \u001b[0madapter\u001b[0m\u001b[1;33m.\u001b[0m\u001b[0msend\u001b[0m\u001b[1;33m(\u001b[0m\u001b[0mrequest\u001b[0m\u001b[1;33m,\u001b[0m \u001b[1;33m**\u001b[0m\u001b[0mkwargs\u001b[0m\u001b[1;33m)\u001b[0m\u001b[1;33m\u001b[0m\u001b[0m\n\u001b[0m\u001b[0;32m    619\u001b[0m \u001b[1;33m\u001b[0m\u001b[0m\n\u001b[0;32m    620\u001b[0m         \u001b[1;31m# Total elapsed time of the request (approximately)\u001b[0m\u001b[1;33m\u001b[0m\u001b[1;33m\u001b[0m\u001b[0m\n",
      "\u001b[1;32mC:\\Users\\Xavier\\Anaconda2\\lib\\site-packages\\requests\\adapters.pyc\u001b[0m in \u001b[0;36msend\u001b[1;34m(self, request, stream, timeout, verify, cert, proxies)\u001b[0m\n\u001b[0;32m    506\u001b[0m                 \u001b[1;32mraise\u001b[0m \u001b[0mSSLError\u001b[0m\u001b[1;33m(\u001b[0m\u001b[0me\u001b[0m\u001b[1;33m,\u001b[0m \u001b[0mrequest\u001b[0m\u001b[1;33m=\u001b[0m\u001b[0mrequest\u001b[0m\u001b[1;33m)\u001b[0m\u001b[1;33m\u001b[0m\u001b[0m\n\u001b[0;32m    507\u001b[0m \u001b[1;33m\u001b[0m\u001b[0m\n\u001b[1;32m--> 508\u001b[1;33m             \u001b[1;32mraise\u001b[0m \u001b[0mConnectionError\u001b[0m\u001b[1;33m(\u001b[0m\u001b[0me\u001b[0m\u001b[1;33m,\u001b[0m \u001b[0mrequest\u001b[0m\u001b[1;33m=\u001b[0m\u001b[0mrequest\u001b[0m\u001b[1;33m)\u001b[0m\u001b[1;33m\u001b[0m\u001b[0m\n\u001b[0m\u001b[0;32m    509\u001b[0m \u001b[1;33m\u001b[0m\u001b[0m\n\u001b[0;32m    510\u001b[0m         \u001b[1;32mexcept\u001b[0m \u001b[0mClosedPoolError\u001b[0m \u001b[1;32mas\u001b[0m \u001b[0me\u001b[0m\u001b[1;33m:\u001b[0m\u001b[1;33m\u001b[0m\u001b[0m\n",
      "\u001b[1;31mConnectionError\u001b[0m: HTTPSConnectionPool(host='ws.fedex.com', port=443): Max retries exceeded with url: /web-services/track (Caused by NewConnectionError('<urllib3.connection.VerifiedHTTPSConnection object at 0x000000000BE6F358>: Failed to establish a new connection: [Errno 11002] getaddrinfo failed',))"
     ]
    }
   ],
   "source": [
    "response_5 = v5Service.track(\n",
    "    WebAuthenticationDetail = {\"UserCredential\": {'Key': \"xc7K0YOJE81jv4SC\", 'Password': \"idhhH2bvfRP6pouS9i7xKA61j\"}}\n",
    "    , ClientDetail = {'AccountNumber': \"165459512\", 'MeterNumber': \"108321767\"}\n",
    "    , Version = {\n",
    "            'ServiceId': 'trck',\n",
    "            'Major': '5', \n",
    "            'Intermediate': '0',\n",
    "            'Minor': '0'\n",
    "    },\n",
    "    PackageIdentifier = {\n",
    "                    'Type': 'TRACKING_NUMBER_OR_DOORTAG',\n",
    "                    'Value': 490817110347333}   \n",
    ")\n",
    "response_5"
   ]
  },
  {
   "cell_type": "code",
   "execution_count": 33,
   "metadata": {
    "hidden": true
   },
   "outputs": [
    {
     "data": {
      "text/plain": [
       "<Element {http://schemas.xmlsoap.org/soap/envelope/}Envelope at 0x7e48f48>"
      ]
     },
     "execution_count": 33,
     "metadata": {},
     "output_type": "execute_result"
    }
   ],
   "source": [
    "node_v5 = v5Client.create_message(v5Client.service,'track',\n",
    "    WebAuthenticationDetail = {\"UserCredential\": {'Key': \"xc7K0YOJE81jv4SC\", 'Password': \"idhhH2bvfRP6pouS9i7xKA61j\"}}\n",
    "    , ClientDetail = {'AccountNumber': \"165459512\", 'MeterNumber': \"108321767\"}\n",
    "    , Version = {\n",
    "            'ServiceId': 'trck',\n",
    "            'Major': '5', \n",
    "            'Intermediate': '0',\n",
    "            'Minor': '0'\n",
    "    },\n",
    "    PackageIdentifier = {\n",
    "                    'Type': 'TRACKING_NUMBER_OR_DOORTAG',\n",
    "                    'Value': 490817110347333}   \n",
    ")\n",
    "node_v5"
   ]
  },
  {
   "cell_type": "markdown",
   "metadata": {
    "heading_collapsed": true
   },
   "source": [
    "### 4. Follow-up"
   ]
  },
  {
   "cell_type": "code",
   "execution_count": 63,
   "metadata": {
    "hidden": true
   },
   "outputs": [
    {
     "ename": "AttributeError",
     "evalue": "TrackReply instance has no attribute 'getiterator'",
     "output_type": "error",
     "traceback": [
      "\u001b[1;31m---------------------------------------------------------------------------\u001b[0m",
      "\u001b[1;31mAttributeError\u001b[0m                            Traceback (most recent call last)",
      "\u001b[1;32m<ipython-input-63-983f2c33f3b9>\u001b[0m in \u001b[0;36m<module>\u001b[1;34m()\u001b[0m\n\u001b[0;32m      1\u001b[0m \u001b[0mtree\u001b[0m \u001b[1;33m=\u001b[0m \u001b[0mET\u001b[0m\u001b[1;33m.\u001b[0m\u001b[0mElementTree\u001b[0m\u001b[1;33m(\u001b[0m\u001b[0mnew_response\u001b[0m\u001b[1;33m)\u001b[0m\u001b[1;33m\u001b[0m\u001b[0m\n\u001b[1;32m----> 2\u001b[1;33m \u001b[0mtree\u001b[0m\u001b[1;33m.\u001b[0m\u001b[0mwrite\u001b[0m\u001b[1;33m(\u001b[0m\u001b[1;34m'fedex_request_v5.xml'\u001b[0m\u001b[1;33m)\u001b[0m\u001b[1;33m\u001b[0m\u001b[0m\n\u001b[0m",
      "\u001b[1;32mC:\\Users\\Xavier\\Anaconda2\\lib\\xml\\etree\\ElementTree.pyc\u001b[0m in \u001b[0;36mwrite\u001b[1;34m(self, file_or_filename, encoding, xml_declaration, default_namespace, method)\u001b[0m\n\u001b[0;32m    815\u001b[0m         \u001b[1;32melse\u001b[0m\u001b[1;33m:\u001b[0m\u001b[1;33m\u001b[0m\u001b[0m\n\u001b[0;32m    816\u001b[0m             qnames, namespaces = _namespaces(\n\u001b[1;32m--> 817\u001b[1;33m                 \u001b[0mself\u001b[0m\u001b[1;33m.\u001b[0m\u001b[0m_root\u001b[0m\u001b[1;33m,\u001b[0m \u001b[0mencoding\u001b[0m\u001b[1;33m,\u001b[0m \u001b[0mdefault_namespace\u001b[0m\u001b[1;33m\u001b[0m\u001b[0m\n\u001b[0m\u001b[0;32m    818\u001b[0m                 )\n\u001b[0;32m    819\u001b[0m             \u001b[0mserialize\u001b[0m \u001b[1;33m=\u001b[0m \u001b[0m_serialize\u001b[0m\u001b[1;33m[\u001b[0m\u001b[0mmethod\u001b[0m\u001b[1;33m]\u001b[0m\u001b[1;33m\u001b[0m\u001b[0m\n",
      "\u001b[1;32mC:\\Users\\Xavier\\Anaconda2\\lib\\xml\\etree\\ElementTree.pyc\u001b[0m in \u001b[0;36m_namespaces\u001b[1;34m(elem, encoding, default_namespace)\u001b[0m\n\u001b[0;32m    874\u001b[0m         \u001b[0miterate\u001b[0m \u001b[1;33m=\u001b[0m \u001b[0melem\u001b[0m\u001b[1;33m.\u001b[0m\u001b[0miter\u001b[0m\u001b[1;33m\u001b[0m\u001b[0m\n\u001b[0;32m    875\u001b[0m     \u001b[1;32mexcept\u001b[0m \u001b[0mAttributeError\u001b[0m\u001b[1;33m:\u001b[0m\u001b[1;33m\u001b[0m\u001b[0m\n\u001b[1;32m--> 876\u001b[1;33m         \u001b[0miterate\u001b[0m \u001b[1;33m=\u001b[0m \u001b[0melem\u001b[0m\u001b[1;33m.\u001b[0m\u001b[0mgetiterator\u001b[0m \u001b[1;31m# cET compatibility\u001b[0m\u001b[1;33m\u001b[0m\u001b[0m\n\u001b[0m\u001b[0;32m    877\u001b[0m     \u001b[1;32mfor\u001b[0m \u001b[0melem\u001b[0m \u001b[1;32min\u001b[0m \u001b[0miterate\u001b[0m\u001b[1;33m(\u001b[0m\u001b[1;33m)\u001b[0m\u001b[1;33m:\u001b[0m\u001b[1;33m\u001b[0m\u001b[0m\n\u001b[0;32m    878\u001b[0m         \u001b[0mtag\u001b[0m \u001b[1;33m=\u001b[0m \u001b[0melem\u001b[0m\u001b[1;33m.\u001b[0m\u001b[0mtag\u001b[0m\u001b[1;33m\u001b[0m\u001b[0m\n",
      "\u001b[1;32mC:\\Users\\Xavier\\Anaconda2\\lib\\site-packages\\zeep\\xsd\\valueobjects.pyc\u001b[0m in \u001b[0;36m__getattribute__\u001b[1;34m(self, key)\u001b[0m\n\u001b[0;32m    140\u001b[0m             raise AttributeError(\n\u001b[0;32m    141\u001b[0m                 \"%s instance has no attribute '%s'\" % (\n\u001b[1;32m--> 142\u001b[1;33m                     self.__class__.__name__, key))\n\u001b[0m\u001b[0;32m    143\u001b[0m \u001b[1;33m\u001b[0m\u001b[0m\n\u001b[0;32m    144\u001b[0m     \u001b[1;32mdef\u001b[0m \u001b[0m__deepcopy__\u001b[0m\u001b[1;33m(\u001b[0m\u001b[0mself\u001b[0m\u001b[1;33m,\u001b[0m \u001b[0mmemo\u001b[0m\u001b[1;33m)\u001b[0m\u001b[1;33m:\u001b[0m\u001b[1;33m\u001b[0m\u001b[0m\n",
      "\u001b[1;31mAttributeError\u001b[0m: TrackReply instance has no attribute 'getiterator'"
     ]
    }
   ],
   "source": [
    "tree = ET.ElementTree(new_response)\n",
    "#tree.write('fedex_request_v5.xml')"
   ]
  },
  {
   "cell_type": "code",
   "execution_count": 22,
   "metadata": {
    "hidden": true
   },
   "outputs": [],
   "source": [
    "import json"
   ]
  },
  {
   "cell_type": "code",
   "execution_count": 38,
   "metadata": {
    "hidden": true
   },
   "outputs": [],
   "source": [
    "import xmltodict, json\n",
    "\n",
    "o = xmltodict.parse('<e> <a>text</a> <a>text</a> </e>')\n",
    "x = json.dumps(o) # '{\"e\": {\"a\": [\"text\", \"text\"]}}'\n",
    "json_acceptable_string = x.replace(\"'\", \"\\\"\")"
   ]
  },
  {
   "cell_type": "code",
   "execution_count": 39,
   "metadata": {
    "hidden": true
   },
   "outputs": [],
   "source": [
    "d = json.loads(json_acceptable_string)\n"
   ]
  },
  {
   "cell_type": "code",
   "execution_count": 42,
   "metadata": {
    "hidden": true
   },
   "outputs": [
    {
     "data": {
      "text/plain": [
       "[u'e']"
      ]
     },
     "execution_count": 42,
     "metadata": {},
     "output_type": "execute_result"
    }
   ],
   "source": [
    "d.keys()"
   ]
  },
  {
   "cell_type": "code",
   "execution_count": 47,
   "metadata": {
    "hidden": true
   },
   "outputs": [
    {
     "data": {
      "text/plain": [
       "[{u'a': [u'text', u'text']}]"
      ]
     },
     "execution_count": 47,
     "metadata": {},
     "output_type": "execute_result"
    }
   ],
   "source": [
    "d.values()"
   ]
  },
  {
   "cell_type": "code",
   "execution_count": 48,
   "metadata": {
    "hidden": true
   },
   "outputs": [
    {
     "data": {
      "text/html": [
       "<div>\n",
       "<style>\n",
       "    .dataframe thead tr:only-child th {\n",
       "        text-align: right;\n",
       "    }\n",
       "\n",
       "    .dataframe thead th {\n",
       "        text-align: left;\n",
       "    }\n",
       "\n",
       "    .dataframe tbody tr th {\n",
       "        vertical-align: top;\n",
       "    }\n",
       "</style>\n",
       "<table border=\"1\" class=\"dataframe\">\n",
       "  <thead>\n",
       "    <tr style=\"text-align: right;\">\n",
       "      <th></th>\n",
       "      <th>e</th>\n",
       "    </tr>\n",
       "  </thead>\n",
       "  <tbody>\n",
       "    <tr>\n",
       "      <th>a</th>\n",
       "      <td>[text, text]</td>\n",
       "    </tr>\n",
       "  </tbody>\n",
       "</table>\n",
       "</div>"
      ],
      "text/plain": [
       "              e\n",
       "a  [text, text]"
      ]
     },
     "execution_count": 48,
     "metadata": {},
     "output_type": "execute_result"
    }
   ],
   "source": [
    "pd.DataFrame.from_dict(d)"
   ]
  },
  {
   "cell_type": "code",
   "execution_count": 69,
   "metadata": {
    "hidden": true
   },
   "outputs": [
    {
     "ename": "ExpatError",
     "evalue": "not well-formed (invalid token): line 1, column 0",
     "output_type": "error",
     "traceback": [
      "\u001b[1;31m---------------------------------------------------------------------------\u001b[0m",
      "\u001b[1;31mExpatError\u001b[0m                                Traceback (most recent call last)",
      "\u001b[1;32m<ipython-input-69-fcd4deabe8ca>\u001b[0m in \u001b[0;36m<module>\u001b[1;34m()\u001b[0m\n\u001b[1;32m----> 1\u001b[1;33m \u001b[0mo\u001b[0m \u001b[1;33m=\u001b[0m \u001b[0mxmltodict\u001b[0m\u001b[1;33m.\u001b[0m\u001b[0mparse\u001b[0m\u001b[1;33m(\u001b[0m\u001b[0mstr\u001b[0m\u001b[1;33m(\u001b[0m\u001b[0mnew_response\u001b[0m\u001b[1;33m)\u001b[0m\u001b[1;33m)\u001b[0m\u001b[1;33m\u001b[0m\u001b[0m\n\u001b[0m\u001b[0;32m      2\u001b[0m \u001b[0mx\u001b[0m \u001b[1;33m=\u001b[0m \u001b[0mjson\u001b[0m\u001b[1;33m.\u001b[0m\u001b[0mdumps\u001b[0m\u001b[1;33m(\u001b[0m\u001b[0mo\u001b[0m\u001b[1;33m)\u001b[0m \u001b[1;31m# '{\"e\": {\"a\": [\"text\", \"text\"]}}'\u001b[0m\u001b[1;33m\u001b[0m\u001b[0m\n\u001b[0;32m      3\u001b[0m \u001b[0mjson_acceptable_string\u001b[0m \u001b[1;33m=\u001b[0m \u001b[0mx\u001b[0m\u001b[1;33m.\u001b[0m\u001b[0mreplace\u001b[0m\u001b[1;33m(\u001b[0m\u001b[1;34m\"'\"\u001b[0m\u001b[1;33m,\u001b[0m \u001b[1;34m\"\\\"\"\u001b[0m\u001b[1;33m)\u001b[0m\u001b[1;33m\u001b[0m\u001b[0m\n",
      "\u001b[1;32mC:\\Users\\Xavier\\Anaconda2\\lib\\site-packages\\xmltodict.pyc\u001b[0m in \u001b[0;36mparse\u001b[1;34m(xml_input, encoding, expat, process_namespaces, namespace_separator, disable_entities, **kwargs)\u001b[0m\n\u001b[0;32m    328\u001b[0m         \u001b[0mparser\u001b[0m\u001b[1;33m.\u001b[0m\u001b[0mParseFile\u001b[0m\u001b[1;33m(\u001b[0m\u001b[0mxml_input\u001b[0m\u001b[1;33m)\u001b[0m\u001b[1;33m\u001b[0m\u001b[0m\n\u001b[0;32m    329\u001b[0m     \u001b[1;32melse\u001b[0m\u001b[1;33m:\u001b[0m\u001b[1;33m\u001b[0m\u001b[0m\n\u001b[1;32m--> 330\u001b[1;33m         \u001b[0mparser\u001b[0m\u001b[1;33m.\u001b[0m\u001b[0mParse\u001b[0m\u001b[1;33m(\u001b[0m\u001b[0mxml_input\u001b[0m\u001b[1;33m,\u001b[0m \u001b[0mTrue\u001b[0m\u001b[1;33m)\u001b[0m\u001b[1;33m\u001b[0m\u001b[0m\n\u001b[0m\u001b[0;32m    331\u001b[0m     \u001b[1;32mreturn\u001b[0m \u001b[0mhandler\u001b[0m\u001b[1;33m.\u001b[0m\u001b[0mitem\u001b[0m\u001b[1;33m\u001b[0m\u001b[0m\n\u001b[0;32m    332\u001b[0m \u001b[1;33m\u001b[0m\u001b[0m\n",
      "\u001b[1;31mExpatError\u001b[0m: not well-formed (invalid token): line 1, column 0"
     ]
    }
   ],
   "source": [
    "o = xmltodict.parse(str(new_response))\n",
    "x = json.dumps(o) # '{\"e\": {\"a\": [\"text\", \"text\"]}}'\n",
    "json_acceptable_string = x.replace(\"'\", \"\\\"\")"
   ]
  },
  {
   "cell_type": "code",
   "execution_count": 61,
   "metadata": {
    "hidden": true
   },
   "outputs": [
    {
     "data": {
      "text/plain": [
       "xml.etree.ElementTree.ElementTree"
      ]
     },
     "execution_count": 61,
     "metadata": {},
     "output_type": "execute_result"
    }
   ],
   "source": [
    "type(tree)"
   ]
  },
  {
   "cell_type": "code",
   "execution_count": 65,
   "metadata": {
    "hidden": true
   },
   "outputs": [
    {
     "data": {
      "text/plain": [
       "zeep.objects.TrackReply"
      ]
     },
     "execution_count": 65,
     "metadata": {},
     "output_type": "execute_result"
    }
   ],
   "source": [
    "type(new_response)"
   ]
  },
  {
   "cell_type": "code",
   "execution_count": 73,
   "metadata": {
    "hidden": true
   },
   "outputs": [],
   "source": [
    "from zeep import helpers\n",
    "input_dict = helpers.serialize_object(new_response)\n",
    "#output_dict = json.loads(json.dumps(input_dict))"
   ]
  },
  {
   "cell_type": "code",
   "execution_count": 74,
   "metadata": {
    "hidden": true
   },
   "outputs": [
    {
     "data": {
      "text/plain": [
       "OrderedDict([(u'HighestSeverity', 'SUCCESS'),\n",
       "             (u'Notifications',\n",
       "              [OrderedDict([(u'Severity', 'SUCCESS'),\n",
       "                            (u'Source', 'trck'),\n",
       "                            (u'Code', '0'),\n",
       "                            (u'Message',\n",
       "                             'Request was successfully processed.'),\n",
       "                            (u'LocalizedMessage',\n",
       "                             'Request was successfully processed.'),\n",
       "                            (u'MessageParameters', [])])]),\n",
       "             (u'TransactionDetail',\n",
       "              OrderedDict([(u'CustomerTransactionId', 'Track By Number_v16'),\n",
       "                           (u'Localization',\n",
       "                            OrderedDict([(u'LanguageCode', 'EN'),\n",
       "                                         (u'LocaleCode', 'US')]))])),\n",
       "             (u'Version',\n",
       "              OrderedDict([(u'ServiceId', 'trck'),\n",
       "                           (u'Major', 16L),\n",
       "                           (u'Intermediate', 0L),\n",
       "                           (u'Minor', 0L)])),\n",
       "             (u'CompletedTrackDetails',\n",
       "              [OrderedDict([(u'HighestSeverity', 'SUCCESS'),\n",
       "                            (u'Notifications',\n",
       "                             [OrderedDict([(u'Severity', 'SUCCESS'),\n",
       "                                           (u'Source', 'trck'),\n",
       "                                           (u'Code', '0'),\n",
       "                                           (u'Message',\n",
       "                                            'Request was successfully processed.'),\n",
       "                                           (u'LocalizedMessage',\n",
       "                                            'Request was successfully processed.'),\n",
       "                                           (u'MessageParameters', [])])]),\n",
       "                            (u'DuplicateWaybill', False),\n",
       "                            (u'MoreData', False),\n",
       "                            (u'PagingToken', None),\n",
       "                            (u'TrackDetailsCount', 0),\n",
       "                            (u'TrackDetails',\n",
       "                             [OrderedDict([(u'Notification',\n",
       "                                            OrderedDict([(u'Severity',\n",
       "                                                          'SUCCESS'),\n",
       "                                                         (u'Source', 'trck'),\n",
       "                                                         (u'Code', '0'),\n",
       "                                                         (u'Message',\n",
       "                                                          'Request was successfully processed.'),\n",
       "                                                         (u'LocalizedMessage',\n",
       "                                                          'Request was successfully processed.'),\n",
       "                                                         (u'MessageParameters',\n",
       "                                                          [])])),\n",
       "                                           (u'TrackingNumber',\n",
       "                                            '490817110347333'),\n",
       "                                           (u'Barcode', None),\n",
       "                                           (u'TrackingNumberUniqueIdentifier',\n",
       "                                            '12017~490817110347333~FDEG'),\n",
       "                                           (u'StatusDetail',\n",
       "                                            OrderedDict([(u'CreationTime',\n",
       "                                                          datetime.datetime(2017, 12, 30, 0, 0)),\n",
       "                                                         (u'Code', 'DL'),\n",
       "                                                         (u'Description',\n",
       "                                                          'Delivered'),\n",
       "                                                         (u'Location',\n",
       "                                                          OrderedDict([(u'StreetLines',\n",
       "                                                                        []),\n",
       "                                                                       (u'City',\n",
       "                                                                        'Bronx'),\n",
       "                                                                       (u'StateOrProvinceCode',\n",
       "                                                                        'NY'),\n",
       "                                                                       (u'PostalCode',\n",
       "                                                                        None),\n",
       "                                                                       (u'UrbanizationCode',\n",
       "                                                                        None),\n",
       "                                                                       (u'CountryCode',\n",
       "                                                                        'US'),\n",
       "                                                                       (u'CountryName',\n",
       "                                                                        'United States'),\n",
       "                                                                       (u'Residential',\n",
       "                                                                        False),\n",
       "                                                                       (u'GeographicCoordinates',\n",
       "                                                                        None)])),\n",
       "                                                         (u'AncillaryDetails',\n",
       "                                                          [])])),\n",
       "                                           (u'InformationNotes', []),\n",
       "                                           (u'CustomerExceptionRequests', []),\n",
       "                                           (u'Reconciliation', None),\n",
       "                                           (u'ServiceCommitMessage', None),\n",
       "                                           (u'DestinationServiceArea', None),\n",
       "                                           (u'DestinationServiceAreaDescription',\n",
       "                                            None),\n",
       "                                           (u'CarrierCode', 'FDXG'),\n",
       "                                           (u'OperatingCompany', None),\n",
       "                                           (u'OperatingCompanyOrCarrierDescription',\n",
       "                                            'FedEx Ground'),\n",
       "                                           (u'CartageAgentCompanyName', None),\n",
       "                                           (u'ProductionLocationContactAndAddress',\n",
       "                                            None),\n",
       "                                           (u'OtherIdentifiers',\n",
       "                                            [OrderedDict([(u'PackageIdentifier',\n",
       "                                                           OrderedDict([(u'Type',\n",
       "                                                                         'CUSTOMER_REFERENCE'),\n",
       "                                                                        (u'Value',\n",
       "                                                                         'PICCAP159820')])),\n",
       "                                                          (u'TrackingNumberUniqueIdentifier',\n",
       "                                                           None),\n",
       "                                                          (u'CarrierCode',\n",
       "                                                           None)]),\n",
       "                                             OrderedDict([(u'PackageIdentifier',\n",
       "                                                           OrderedDict([(u'Type',\n",
       "                                                                         'INVOICE'),\n",
       "                                                                        (u'Value',\n",
       "                                                                         '72322589')])),\n",
       "                                                          (u'TrackingNumberUniqueIdentifier',\n",
       "                                                           None),\n",
       "                                                          (u'CarrierCode',\n",
       "                                                           None)]),\n",
       "                                             OrderedDict([(u'PackageIdentifier',\n",
       "                                                           OrderedDict([(u'Type',\n",
       "                                                                         'PURCHASE_ORDER'),\n",
       "                                                                        (u'Value',\n",
       "                                                                         'ZJ14826670')])),\n",
       "                                                          (u'TrackingNumberUniqueIdentifier',\n",
       "                                                           None),\n",
       "                                                          (u'CarrierCode',\n",
       "                                                           None)])]),\n",
       "                                           (u'FormId', None),\n",
       "                                           (u'Service',\n",
       "                                            OrderedDict([(u'Type',\n",
       "                                                          'GROUND_HOME_DELIVERY'),\n",
       "                                                         (u'Description',\n",
       "                                                          'FedEx Home Delivery'),\n",
       "                                                         (u'ShortDescription',\n",
       "                                                          'HD')])),\n",
       "                                           (u'PackageWeight',\n",
       "                                            OrderedDict([(u'Units', 'LB'),\n",
       "                                                         (u'Value',\n",
       "                                                          Decimal('3.5'))])),\n",
       "                                           (u'PackageDimensions',\n",
       "                                            OrderedDict([(u'Length', 16),\n",
       "                                                         (u'Width', 13),\n",
       "                                                         (u'Height', 12),\n",
       "                                                         (u'Units', 'IN')])),\n",
       "                                           (u'PackageDimensionalWeight', None),\n",
       "                                           (u'ShipmentWeight', None),\n",
       "                                           (u'Packaging', 'Package'),\n",
       "                                           (u'PackagingType',\n",
       "                                            'YOUR_PACKAGING'),\n",
       "                                           (u'PhysicalPackagingType',\n",
       "                                            'PACKAGE'),\n",
       "                                           (u'PackageSequenceNumber', 1),\n",
       "                                           (u'PackageCount', 1),\n",
       "                                           (u'CreatorSoftwareId', None),\n",
       "                                           (u'Charges', []),\n",
       "                                           (u'NickName', None),\n",
       "                                           (u'Notes', None),\n",
       "                                           (u'Attributes', []),\n",
       "                                           (u'ShipmentContents', []),\n",
       "                                           (u'PackageContents', []),\n",
       "                                           (u'ClearanceLocationCode', None),\n",
       "                                           (u'Commodities', []),\n",
       "                                           (u'ReturnDetail', None),\n",
       "                                           (u'CustomsOptionDetails', []),\n",
       "                                           (u'AdvanceNotificationDetail',\n",
       "                                            None),\n",
       "                                           (u'SpecialHandlings', []),\n",
       "                                           (u'Payments',\n",
       "                                            [OrderedDict([(u'Classification',\n",
       "                                                           'TRANSPORTATION'),\n",
       "                                                          (u'Type',\n",
       "                                                           'SHIPPER_ACCOUNT'),\n",
       "                                                          (u'Description',\n",
       "                                                           'Shipper')])]),\n",
       "                                           (u'Shipper', None),\n",
       "                                           (u'PossessionStatus', None),\n",
       "                                           (u'ShipperAddress',\n",
       "                                            OrderedDict([(u'StreetLines', []),\n",
       "                                                         (u'City', 'New York'),\n",
       "                                                         (u'StateOrProvinceCode',\n",
       "                                                          'NY'),\n",
       "                                                         (u'PostalCode', None),\n",
       "                                                         (u'UrbanizationCode',\n",
       "                                                          None),\n",
       "                                                         (u'CountryCode',\n",
       "                                                          'US'),\n",
       "                                                         (u'CountryName',\n",
       "                                                          'United States'),\n",
       "                                                         (u'Residential',\n",
       "                                                          False),\n",
       "                                                         (u'GeographicCoordinates',\n",
       "                                                          None)])),\n",
       "                                           (u'OriginLocationAddress',\n",
       "                                            OrderedDict([(u'StreetLines', []),\n",
       "                                                         (u'City', 'DAYTON'),\n",
       "                                                         (u'StateOrProvinceCode',\n",
       "                                                          'NJ'),\n",
       "                                                         (u'PostalCode', None),\n",
       "                                                         (u'UrbanizationCode',\n",
       "                                                          None),\n",
       "                                                         (u'CountryCode',\n",
       "                                                          'US'),\n",
       "                                                         (u'CountryName',\n",
       "                                                          'United States'),\n",
       "                                                         (u'Residential',\n",
       "                                                          False),\n",
       "                                                         (u'GeographicCoordinates',\n",
       "                                                          None)])),\n",
       "                                           (u'OriginStationId', None),\n",
       "                                           (u'DatesOrTimes',\n",
       "                                            [OrderedDict([(u'Type',\n",
       "                                                           'ACTUAL_DELIVERY'),\n",
       "                                                          (u'DateOrTimestamp',\n",
       "                                                           '2017-12-30T13:58:36-05:00')]),\n",
       "                                             OrderedDict([(u'Type',\n",
       "                                                           'ACTUAL_PICKUP'),\n",
       "                                                          (u'DateOrTimestamp',\n",
       "                                                           '2017-12-29T00:00:00')]),\n",
       "                                             OrderedDict([(u'Type', 'SHIP'),\n",
       "                                                          (u'DateOrTimestamp',\n",
       "                                                           '2017-12-29T00:00:00')]),\n",
       "                                             OrderedDict([(u'Type',\n",
       "                                                           'ACTUAL_TENDER'),\n",
       "                                                          (u'DateOrTimestamp',\n",
       "                                                           '2017-12-29T00:00:00')]),\n",
       "                                             OrderedDict([(u'Type',\n",
       "                                                           'ANTICIPATED_TENDER'),\n",
       "                                                          (u'DateOrTimestamp',\n",
       "                                                           '2017-12-29T00:00:00')])]),\n",
       "                                           (u'TotalTransitDistance', None),\n",
       "                                           (u'DistanceToDestination', None),\n",
       "                                           (u'SpecialInstructions', []),\n",
       "                                           (u'Recipient', None),\n",
       "                                           (u'LastUpdatedDestinationAddress',\n",
       "                                            OrderedDict([(u'StreetLines', []),\n",
       "                                                         (u'City', 'Bronx'),\n",
       "                                                         (u'StateOrProvinceCode',\n",
       "                                                          'NY'),\n",
       "                                                         (u'PostalCode', None),\n",
       "                                                         (u'UrbanizationCode',\n",
       "                                                          None),\n",
       "                                                         (u'CountryCode',\n",
       "                                                          'US'),\n",
       "                                                         (u'CountryName',\n",
       "                                                          'United States'),\n",
       "                                                         (u'Residential',\n",
       "                                                          False),\n",
       "                                                         (u'GeographicCoordinates',\n",
       "                                                          None)])),\n",
       "                                           (u'DestinationAddress',\n",
       "                                            OrderedDict([(u'StreetLines', []),\n",
       "                                                         (u'City', 'Bronx'),\n",
       "                                                         (u'StateOrProvinceCode',\n",
       "                                                          'NY'),\n",
       "                                                         (u'PostalCode', None),\n",
       "                                                         (u'UrbanizationCode',\n",
       "                                                          None),\n",
       "                                                         (u'CountryCode',\n",
       "                                                          'US'),\n",
       "                                                         (u'CountryName',\n",
       "                                                          'United States'),\n",
       "                                                         (u'Residential',\n",
       "                                                          False),\n",
       "                                                         (u'GeographicCoordinates',\n",
       "                                                          None)])),\n",
       "                                           (u'HoldAtLocationContact', None),\n",
       "                                           (u'HoldAtLocationAddress', None),\n",
       "                                           (u'DestinationStationId', None),\n",
       "                                           (u'DestinationLocationAddress',\n",
       "                                            None),\n",
       "                                           (u'DestinationLocationType', None),\n",
       "                                           (u'DestinationLocationTimeZoneOffset',\n",
       "                                            None),\n",
       "                                           (u'ActualDeliveryAddress',\n",
       "                                            OrderedDict([(u'StreetLines', []),\n",
       "                                                         (u'City', 'Bronx'),\n",
       "                                                         (u'StateOrProvinceCode',\n",
       "                                                          'NY'),\n",
       "                                                         (u'PostalCode', None),\n",
       "                                                         (u'UrbanizationCode',\n",
       "                                                          None),\n",
       "                                                         (u'CountryCode',\n",
       "                                                          'US'),\n",
       "                                                         (u'CountryName',\n",
       "                                                          'United States'),\n",
       "                                                         (u'Residential',\n",
       "                                                          False),\n",
       "                                                         (u'GeographicCoordinates',\n",
       "                                                          None)])),\n",
       "                                           (u'OfficeOrderDeliveryMethod',\n",
       "                                            None),\n",
       "                                           (u'DeliveryLocationType', None),\n",
       "                                           (u'DeliveryLocationDescription',\n",
       "                                            None),\n",
       "                                           (u'DeliveryAttempts', 0),\n",
       "                                           (u'DeliverySignatureName',\n",
       "                                            'ACONTE'),\n",
       "                                           (u'PieceCountVerificationDetails',\n",
       "                                            []),\n",
       "                                           (u'TotalUniqueAddressCountInConsolidation',\n",
       "                                            0),\n",
       "                                           (u'AvailableImages',\n",
       "                                            [OrderedDict([(u'Type',\n",
       "                                                           'SIGNATURE_PROOF_OF_DELIVERY'),\n",
       "                                                          (u'Size', None)])]),\n",
       "                                           (u'Signature', None),\n",
       "                                           (u'NotificationEventsAvailable',\n",
       "                                            []),\n",
       "                                           (u'SplitShipmentParts', []),\n",
       "                                           (u'DeliveryOptionEligibilityDetails',\n",
       "                                            [OrderedDict([(u'Option',\n",
       "                                                           'INDIRECT_SIGNATURE_RELEASE'),\n",
       "                                                          (u'Eligibility',\n",
       "                                                           'INELIGIBLE')]),\n",
       "                                             OrderedDict([(u'Option',\n",
       "                                                           'REDIRECT_TO_HOLD_AT_LOCATION'),\n",
       "                                                          (u'Eligibility',\n",
       "                                                           'INELIGIBLE')]),\n",
       "                                             OrderedDict([(u'Option',\n",
       "                                                           'REROUTE'),\n",
       "                                                          (u'Eligibility',\n",
       "                                                           'INELIGIBLE')]),\n",
       "                                             OrderedDict([(u'Option',\n",
       "                                                           'RESCHEDULE'),\n",
       "                                                          (u'Eligibility',\n",
       "                                                           'INELIGIBLE')])]),\n",
       "                                           (u'Events',\n",
       "                                            [OrderedDict([(u'Timestamp',\n",
       "                                                           datetime.datetime(2017, 12, 30, 13, 58, 36, tzinfo=<FixedOffset '-05:00'>)),\n",
       "                                                          (u'EventType', 'DL'),\n",
       "                                                          (u'EventDescription',\n",
       "                                                           'Delivered'),\n",
       "                                                          (u'StatusExceptionCode',\n",
       "                                                           None),\n",
       "                                                          (u'StatusExceptionDescription',\n",
       "                                                           None),\n",
       "                                                          (u'Address',\n",
       "                                                           OrderedDict([(u'StreetLines',\n",
       "                                                                         []),\n",
       "                                                                        (u'City',\n",
       "                                                                         'Bronx'),\n",
       "                                                                        (u'StateOrProvinceCode',\n",
       "                                                                         'NY'),\n",
       "                                                                        (u'PostalCode',\n",
       "                                                                         '10462'),\n",
       "                                                                        (u'UrbanizationCode',\n",
       "                                                                         None),\n",
       "                                                                        (u'CountryCode',\n",
       "                                                                         'US'),\n",
       "                                                                        (u'CountryName',\n",
       "                                                                         'United States'),\n",
       "                                                                        (u'Residential',\n",
       "                                                                         False),\n",
       "                                                                        (u'GeographicCoordinates',\n",
       "                                                                         None)])),\n",
       "                                                          (u'StationId', None),\n",
       "                                                          (u'ArrivalLocation',\n",
       "                                                           'DELIVERY_LOCATION')])])])])])])])"
      ]
     },
     "execution_count": 74,
     "metadata": {},
     "output_type": "execute_result"
    }
   ],
   "source": [
    "input_dict"
   ]
  }
 ],
 "metadata": {
  "kernelspec": {
   "display_name": "Python 2",
   "language": "python",
   "name": "python2"
  },
  "language_info": {
   "codemirror_mode": {
    "name": "ipython",
    "version": 2
   },
   "file_extension": ".py",
   "mimetype": "text/x-python",
   "name": "python",
   "nbconvert_exporter": "python",
   "pygments_lexer": "ipython2",
   "version": "2.7.14"
  }
 },
 "nbformat": 4,
 "nbformat_minor": 2
}
